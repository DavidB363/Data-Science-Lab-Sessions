{
  "nbformat": 4,
  "nbformat_minor": 0,
  "metadata": {
    "colab": {
      "name": "Lab1.ipynb",
      "provenance": [],
      "authorship_tag": "ABX9TyMAsrRPz/dSkDaDrVNNXoct",
      "include_colab_link": true
    },
    "kernelspec": {
      "name": "python3",
      "display_name": "Python 3"
    }
  },
  "cells": [
    {
      "cell_type": "markdown",
      "metadata": {
        "id": "view-in-github",
        "colab_type": "text"
      },
      "source": [
        "<a href=\"https://colab.research.google.com/github/DavidB363/file-store/blob/master/Lab/Lab1.ipynb\" target=\"_parent\"><img src=\"https://colab.research.google.com/assets/colab-badge.svg\" alt=\"Open In Colab\"/></a>"
      ]
    },
    {
      "cell_type": "code",
      "metadata": {
        "id": "otxRe6SW9T6Y",
        "colab_type": "code",
        "outputId": "44be5427-4849-4fb8-ce98-4b7a6d100c25",
        "colab": {
          "base_uri": "https://localhost:8080/",
          "height": 136
        }
      },
      "source": [
        "# Question 1.\n",
        "# Create 2x2 array and print its attributes.\n",
        "\n",
        "\n",
        "import numpy as np\n",
        "\n",
        "# Simple array creation.\n",
        "a = np.array([[0, 1],[2, 3],[4, 5],[6, 7]])\n",
        "\n",
        "# Print out the values of the array.\n",
        "print(a)\n",
        "\n",
        "print('Shape =', a.shape)\n",
        "print('Size =', a.size)\n",
        "print('Dimension -', a.ndim)\n"
      ],
      "execution_count": 233,
      "outputs": [
        {
          "output_type": "stream",
          "text": [
            "[[0 1]\n",
            " [2 3]\n",
            " [4 5]\n",
            " [6 7]]\n",
            "Shape = (4, 2)\n",
            "Size = 8\n",
            "Dimension - 2\n"
          ],
          "name": "stdout"
        }
      ]
    },
    {
      "cell_type": "code",
      "metadata": {
        "id": "qZ63UIrwHy63",
        "colab_type": "code",
        "outputId": "42cad350-049c-42a5-d896-848163862013",
        "colab": {
          "base_uri": "https://localhost:8080/",
          "height": 102
        }
      },
      "source": [
        "# Question 2.\n",
        "# Create an array of dimension (1,10) and sort it in ascending and descending order.\n",
        "\n",
        "a = np.array([[5, 1, 9, 3, 0, 4, 2, 7, 8, 6]])\n",
        "\n",
        "# Print out the values of the array.\n",
        "print(a)\n",
        "\n",
        "print('Shape =', a.shape)\n",
        "print('Size =', a.size)\n",
        "print('Dimension -', a.ndim)\n",
        "\n",
        "#sort in ascending order\n",
        "a_sorted_asc = np.sort(a)\n",
        "a_sorted_asc\n",
        "\n",
        "\n",
        "\n",
        "\n",
        "\n",
        "\n"
      ],
      "execution_count": 234,
      "outputs": [
        {
          "output_type": "stream",
          "text": [
            "[[5 1 9 3 0 4 2 7 8 6]]\n",
            "Shape = (1, 10)\n",
            "Size = 10\n",
            "Dimension - 2\n"
          ],
          "name": "stdout"
        },
        {
          "output_type": "execute_result",
          "data": {
            "text/plain": [
              "array([[0, 1, 2, 3, 4, 5, 6, 7, 8, 9]])"
            ]
          },
          "metadata": {
            "tags": []
          },
          "execution_count": 234
        }
      ]
    },
    {
      "cell_type": "code",
      "metadata": {
        "id": "B_Rd94qwN1mF",
        "colab_type": "code",
        "outputId": "43bdc574-fa3d-4827-8f50-f7e99bc7f0ec",
        "colab": {
          "base_uri": "https://localhost:8080/",
          "height": 34
        }
      },
      "source": [
        "#sort in descending order\n",
        "a_sorted_des = -np.sort(-a)\n",
        "a_sorted_des"
      ],
      "execution_count": 235,
      "outputs": [
        {
          "output_type": "execute_result",
          "data": {
            "text/plain": [
              "array([[9, 8, 7, 6, 5, 4, 3, 2, 1, 0]])"
            ]
          },
          "metadata": {
            "tags": []
          },
          "execution_count": 235
        }
      ]
    },
    {
      "cell_type": "code",
      "metadata": {
        "id": "Q5r63QY1Mrg0",
        "colab_type": "code",
        "outputId": "16e4b2ea-a019-4f98-86f4-57bdbf235ffe",
        "colab": {
          "base_uri": "https://localhost:8080/",
          "height": 34
        }
      },
      "source": [
        "# Question 3.\n",
        "# Convert an 1D array [1 2 3 4 5 6 7 8 9] to 2D array [[1 2 3], [4 5 6], [7 8 9]].\n",
        "\n",
        "x = np.array([1, 2, 3, 4, 5, 6, 7, 8, 9])\n",
        "x\n"
      ],
      "execution_count": 236,
      "outputs": [
        {
          "output_type": "execute_result",
          "data": {
            "text/plain": [
              "array([1, 2, 3, 4, 5, 6, 7, 8, 9])"
            ]
          },
          "metadata": {
            "tags": []
          },
          "execution_count": 236
        }
      ]
    },
    {
      "cell_type": "code",
      "metadata": {
        "id": "Cs1FXz7fOc0I",
        "colab_type": "code",
        "outputId": "7e74b821-0996-4468-a3a0-54532f887713",
        "colab": {
          "base_uri": "https://localhost:8080/",
          "height": 68
        }
      },
      "source": [
        "X = np.reshape(x, (-1, 3))\n",
        "X"
      ],
      "execution_count": 237,
      "outputs": [
        {
          "output_type": "execute_result",
          "data": {
            "text/plain": [
              "array([[1, 2, 3],\n",
              "       [4, 5, 6],\n",
              "       [7, 8, 9]])"
            ]
          },
          "metadata": {
            "tags": []
          },
          "execution_count": 237
        }
      ]
    },
    {
      "cell_type": "code",
      "metadata": {
        "id": "YXNiaDhUQAbs",
        "colab_type": "code",
        "outputId": "0e1a4837-f779-4c9b-c155-4c77691bd280",
        "colab": {
          "base_uri": "https://localhost:8080/",
          "height": 68
        }
      },
      "source": [
        "# Question 4.\n",
        "# Stack two arrays of any size horizontally and vertically.\n",
        "\n",
        "# Vertical stacking of arrays.\n",
        "A = np.array([[1, 2, 3, 6],\n",
        "       [4, 5, 6, 9],\n",
        "       [7, 8, 9, 4]])\n",
        "A\n"
      ],
      "execution_count": 238,
      "outputs": [
        {
          "output_type": "execute_result",
          "data": {
            "text/plain": [
              "array([[1, 2, 3, 6],\n",
              "       [4, 5, 6, 9],\n",
              "       [7, 8, 9, 4]])"
            ]
          },
          "metadata": {
            "tags": []
          },
          "execution_count": 238
        }
      ]
    },
    {
      "cell_type": "code",
      "metadata": {
        "id": "CbSeSKRAQnNL",
        "colab_type": "code",
        "outputId": "16a1b033-354c-43ea-f1a6-e2803166104b",
        "colab": {
          "base_uri": "https://localhost:8080/",
          "height": 51
        }
      },
      "source": [
        "B= np.array([[10, 20, 30,40],\n",
        "       [40, 50, 60,70]])\n",
        "B"
      ],
      "execution_count": 239,
      "outputs": [
        {
          "output_type": "execute_result",
          "data": {
            "text/plain": [
              "array([[10, 20, 30, 40],\n",
              "       [40, 50, 60, 70]])"
            ]
          },
          "metadata": {
            "tags": []
          },
          "execution_count": 239
        }
      ]
    },
    {
      "cell_type": "code",
      "metadata": {
        "id": "SqrxEMv5Qp5R",
        "colab_type": "code",
        "outputId": "3cffa3fe-3af7-4938-b3c5-2239e887a724",
        "colab": {
          "base_uri": "https://localhost:8080/",
          "height": 102
        }
      },
      "source": [
        "\n",
        "np.vstack((A,B))"
      ],
      "execution_count": 240,
      "outputs": [
        {
          "output_type": "execute_result",
          "data": {
            "text/plain": [
              "array([[ 1,  2,  3,  6],\n",
              "       [ 4,  5,  6,  9],\n",
              "       [ 7,  8,  9,  4],\n",
              "       [10, 20, 30, 40],\n",
              "       [40, 50, 60, 70]])"
            ]
          },
          "metadata": {
            "tags": []
          },
          "execution_count": 240
        }
      ]
    },
    {
      "cell_type": "code",
      "metadata": {
        "id": "zIhR3M-aroKi",
        "colab_type": "code",
        "outputId": "f83d5a60-8bce-4f77-d5f6-ef764abaea08",
        "colab": {
          "base_uri": "https://localhost:8080/",
          "height": 68
        }
      },
      "source": [
        "# Horizontal stacking of arrays.\n",
        "C=np.array([[5, 7, 8, 9, 3],\n",
        "    [8, 9, 2, 7, 2],\n",
        "    [4, 5, 7, 7, 1]])\n",
        "C"
      ],
      "execution_count": 241,
      "outputs": [
        {
          "output_type": "execute_result",
          "data": {
            "text/plain": [
              "array([[5, 7, 8, 9, 3],\n",
              "       [8, 9, 2, 7, 2],\n",
              "       [4, 5, 7, 7, 1]])"
            ]
          },
          "metadata": {
            "tags": []
          },
          "execution_count": 241
        }
      ]
    },
    {
      "cell_type": "code",
      "metadata": {
        "id": "-HxNt9iWr-q3",
        "colab_type": "code",
        "outputId": "f447bd21-636f-4fe8-bede-d945f365efcd",
        "colab": {
          "base_uri": "https://localhost:8080/",
          "height": 68
        }
      },
      "source": [
        "D=np.array([[8, 6],\n",
        "    [3, 5],\n",
        "    [9, 2]])\n",
        "D"
      ],
      "execution_count": 242,
      "outputs": [
        {
          "output_type": "execute_result",
          "data": {
            "text/plain": [
              "array([[8, 6],\n",
              "       [3, 5],\n",
              "       [9, 2]])"
            ]
          },
          "metadata": {
            "tags": []
          },
          "execution_count": 242
        }
      ]
    },
    {
      "cell_type": "code",
      "metadata": {
        "id": "nvOGP0mysgQy",
        "colab_type": "code",
        "outputId": "96a24c4e-6d8a-4242-ef0b-5980c9fa18fb",
        "colab": {
          "base_uri": "https://localhost:8080/",
          "height": 68
        }
      },
      "source": [
        "np.hstack((C,D))"
      ],
      "execution_count": 243,
      "outputs": [
        {
          "output_type": "execute_result",
          "data": {
            "text/plain": [
              "array([[5, 7, 8, 9, 3, 8, 6],\n",
              "       [8, 9, 2, 7, 2, 3, 5],\n",
              "       [4, 5, 7, 7, 1, 9, 2]])"
            ]
          },
          "metadata": {
            "tags": []
          },
          "execution_count": 243
        }
      ]
    },
    {
      "cell_type": "code",
      "metadata": {
        "id": "uxKQDR4Px4ik",
        "colab_type": "code",
        "colab": {}
      },
      "source": [
        "# Question 5.\n",
        "#Create two array of same size and find commom elements.\n",
        "\n",
        "# Finding the common elements in two arrays\n",
        "\n",
        "C=np.array([[5, 7, 15, 9, 3],\n",
        "    [14, 9, 2, 7, 2],\n",
        "    [4, 5, 7, 7, 1]])"
      ],
      "execution_count": 0,
      "outputs": []
    },
    {
      "cell_type": "code",
      "metadata": {
        "id": "lxopA1zZ6QB0",
        "colab_type": "code",
        "outputId": "d89b8a98-160e-4052-f94d-7c340d2763a2",
        "colab": {
          "base_uri": "https://localhost:8080/",
          "height": 51
        }
      },
      "source": [
        "print('size =', C.size)\n",
        "print('shape =',C.shape)\n"
      ],
      "execution_count": 245,
      "outputs": [
        {
          "output_type": "stream",
          "text": [
            "size = 15\n",
            "shape = (3, 5)\n"
          ],
          "name": "stdout"
        }
      ]
    },
    {
      "cell_type": "code",
      "metadata": {
        "id": "KzzG_3OvyV1Z",
        "colab_type": "code",
        "outputId": "ec790b4c-56d3-4b70-97a3-e3c9b8f26867",
        "colab": {
          "base_uri": "https://localhost:8080/",
          "height": 51
        }
      },
      "source": [
        "D=np.array([[1, 3, 11],\n",
        "    [2, 8, 2],\n",
        "    [13, 9, 1],\n",
        "    [15, 6, 7],\n",
        "    [16, 8, 7],])\n",
        "\n",
        "print('size =', D.size)\n",
        "print('shape =',D.shape)\n",
        "\n",
        "# Note that C and D have the same size, but different shape."
      ],
      "execution_count": 246,
      "outputs": [
        {
          "output_type": "stream",
          "text": [
            "size = 15\n",
            "shape = (5, 3)\n"
          ],
          "name": "stdout"
        }
      ]
    },
    {
      "cell_type": "code",
      "metadata": {
        "id": "Ie_3AkFiya-Y",
        "colab_type": "code",
        "outputId": "69da05cf-77a8-47bc-d4ee-e4d3d701cc46",
        "colab": {
          "base_uri": "https://localhost:8080/",
          "height": 34
        }
      },
      "source": [
        "np.intersect1d(C, D)"
      ],
      "execution_count": 247,
      "outputs": [
        {
          "output_type": "execute_result",
          "data": {
            "text/plain": [
              "array([ 1,  2,  3,  7,  9, 15])"
            ]
          },
          "metadata": {
            "tags": []
          },
          "execution_count": 247
        }
      ]
    },
    {
      "cell_type": "code",
      "metadata": {
        "id": "LDc0nwoXyueI",
        "colab_type": "code",
        "outputId": "97319a7d-4b4b-48d1-d1d0-56ec41d44738",
        "colab": {
          "base_uri": "https://localhost:8080/",
          "height": 102
        }
      },
      "source": [
        "# Question 6.\n",
        "# Finding the minumum and maximum values in each row and column of an array.\n",
        "\n",
        "X = np.array([[12, 2, 3, 5, 8],\n",
        "              [11, 15, 3, 3, 15],\n",
        "              [6, 8, 11, 19, 1],\n",
        "              [4, 11, 2, 7, 5],\n",
        "              [4, 16, 6, 16, 17]])\n",
        "\n",
        "X\n",
        "\n"
      ],
      "execution_count": 248,
      "outputs": [
        {
          "output_type": "execute_result",
          "data": {
            "text/plain": [
              "array([[12,  2,  3,  5,  8],\n",
              "       [11, 15,  3,  3, 15],\n",
              "       [ 6,  8, 11, 19,  1],\n",
              "       [ 4, 11,  2,  7,  5],\n",
              "       [ 4, 16,  6, 16, 17]])"
            ]
          },
          "metadata": {
            "tags": []
          },
          "execution_count": 248
        }
      ]
    },
    {
      "cell_type": "code",
      "metadata": {
        "id": "GriIx3Fc1E9t",
        "colab_type": "code",
        "outputId": "2fec6608-2fd8-4d42-d87c-a126db327014",
        "colab": {
          "base_uri": "https://localhost:8080/",
          "height": 34
        }
      },
      "source": [
        "(num_rows,num_cols)=X.shape\n",
        "num_rows"
      ],
      "execution_count": 249,
      "outputs": [
        {
          "output_type": "execute_result",
          "data": {
            "text/plain": [
              "5"
            ]
          },
          "metadata": {
            "tags": []
          },
          "execution_count": 249
        }
      ]
    },
    {
      "cell_type": "code",
      "metadata": {
        "id": "LUrh82q_2PcU",
        "colab_type": "code",
        "outputId": "643f5638-c023-43a9-a82f-c76c277589e4",
        "colab": {
          "base_uri": "https://localhost:8080/",
          "height": 34
        }
      },
      "source": [
        "num_cols"
      ],
      "execution_count": 250,
      "outputs": [
        {
          "output_type": "execute_result",
          "data": {
            "text/plain": [
              "5"
            ]
          },
          "metadata": {
            "tags": []
          },
          "execution_count": 250
        }
      ]
    },
    {
      "cell_type": "code",
      "metadata": {
        "id": "M9hx6oLT2g8C",
        "colab_type": "code",
        "outputId": "895b5df3-1210-4025-aa04-42069db0fb32",
        "colab": {
          "base_uri": "https://localhost:8080/",
          "height": 102
        }
      },
      "source": [
        "for i in range(num_rows):\n",
        "  print('Row:', i, 'Minimum is' , min(X[i,:]), 'Maximum is',  max(X[i,:]))"
      ],
      "execution_count": 251,
      "outputs": [
        {
          "output_type": "stream",
          "text": [
            "Row: 0 Minimum is 2 Maximum is 12\n",
            "Row: 1 Minimum is 3 Maximum is 15\n",
            "Row: 2 Minimum is 1 Maximum is 19\n",
            "Row: 3 Minimum is 2 Maximum is 11\n",
            "Row: 4 Minimum is 4 Maximum is 17\n"
          ],
          "name": "stdout"
        }
      ]
    },
    {
      "cell_type": "code",
      "metadata": {
        "id": "waSNTnxO4EsD",
        "colab_type": "code",
        "outputId": "ff4b1c5a-49fd-4a94-ff67-6fcf40e45141",
        "colab": {
          "base_uri": "https://localhost:8080/",
          "height": 102
        }
      },
      "source": [
        "for j in range(num_rows):\n",
        "  print('Column:', j, 'Minimum is' , min(X[:,j]), 'Maximum is',  max(X[:,j]))"
      ],
      "execution_count": 252,
      "outputs": [
        {
          "output_type": "stream",
          "text": [
            "Column: 0 Minimum is 4 Maximum is 12\n",
            "Column: 1 Minimum is 2 Maximum is 16\n",
            "Column: 2 Minimum is 2 Maximum is 11\n",
            "Column: 3 Minimum is 3 Maximum is 19\n",
            "Column: 4 Minimum is 1 Maximum is 17\n"
          ],
          "name": "stdout"
        }
      ]
    },
    {
      "cell_type": "code",
      "metadata": {
        "id": "px39jPVG4e5Q",
        "colab_type": "code",
        "outputId": "7f6c7768-00a3-4846-e3a0-682fa17e250d",
        "colab": {
          "base_uri": "https://localhost:8080/",
          "height": 357
        }
      },
      "source": [
        "# Question 7.\n",
        "# Create an array of size 100 and compute the mean, median, standard deviation.\n",
        "\n",
        "X=np.random.random((5, 20))\n",
        "X\n",
        "\n"
      ],
      "execution_count": 253,
      "outputs": [
        {
          "output_type": "execute_result",
          "data": {
            "text/plain": [
              "array([[0.13215568, 0.97941947, 0.95771065, 0.32091393, 0.27850212,\n",
              "        0.49301978, 0.36955509, 0.25262951, 0.75481577, 0.71688464,\n",
              "        0.52136292, 0.30067931, 0.05952244, 0.05053446, 0.88985275,\n",
              "        0.86684929, 0.23473161, 0.48059671, 0.77664147, 0.76731619],\n",
              "       [0.20911564, 0.04876937, 0.71031946, 0.4626949 , 0.78025397,\n",
              "        0.05400938, 0.14163959, 0.27552166, 0.01751964, 0.50012748,\n",
              "        0.92958092, 0.28998319, 0.52949798, 0.15140642, 0.10692326,\n",
              "        0.23209376, 0.6716714 , 0.99386848, 0.57710039, 0.32193847],\n",
              "       [0.51811047, 0.03401574, 0.60265817, 0.13852065, 0.01437849,\n",
              "        0.92992956, 0.20934455, 0.01529581, 0.34608702, 0.91041777,\n",
              "        0.99347457, 0.77349687, 0.81587948, 0.61794478, 0.8950625 ,\n",
              "        0.26466779, 0.21706759, 0.05585834, 0.81987209, 0.31364926],\n",
              "       [0.0848635 , 0.67392747, 0.59228792, 0.7958714 , 0.55806838,\n",
              "        0.54446877, 0.26985064, 0.83767313, 0.55049573, 0.77074962,\n",
              "        0.61247117, 0.74628214, 0.52341358, 0.63124749, 0.13515304,\n",
              "        0.13753923, 0.11037941, 0.22466733, 0.74961337, 0.75291952],\n",
              "       [0.88279315, 0.98130315, 0.38071101, 0.42010285, 0.13833348,\n",
              "        0.2710518 , 0.18315263, 0.97766922, 0.80524435, 0.57429108,\n",
              "        0.60718769, 0.24725688, 0.0515671 , 0.96310197, 0.36233499,\n",
              "        0.40953146, 0.04763332, 0.2356071 , 0.05820491, 0.62505659]])"
            ]
          },
          "metadata": {
            "tags": []
          },
          "execution_count": 253
        }
      ]
    },
    {
      "cell_type": "code",
      "metadata": {
        "id": "8Afu1J3W40JN",
        "colab_type": "code",
        "outputId": "28fb575d-411e-44c4-a381-ca6dfe2aa066",
        "colab": {
          "base_uri": "https://localhost:8080/",
          "height": 34
        }
      },
      "source": [
        "X.size"
      ],
      "execution_count": 254,
      "outputs": [
        {
          "output_type": "execute_result",
          "data": {
            "text/plain": [
              "100"
            ]
          },
          "metadata": {
            "tags": []
          },
          "execution_count": 254
        }
      ]
    },
    {
      "cell_type": "code",
      "metadata": {
        "id": "GHpayEUO-hVk",
        "colab_type": "code",
        "outputId": "35c74423-f302-43ee-d0cc-5785762992a3",
        "colab": {
          "base_uri": "https://localhost:8080/",
          "height": 34
        }
      },
      "source": [
        "# Mean.\n",
        "np.mean(X)"
      ],
      "execution_count": 255,
      "outputs": [
        {
          "output_type": "execute_result",
          "data": {
            "text/plain": [
              "0.4721753822338026"
            ]
          },
          "metadata": {
            "tags": []
          },
          "execution_count": 255
        }
      ]
    },
    {
      "cell_type": "code",
      "metadata": {
        "id": "17w3z312-mGS",
        "colab_type": "code",
        "outputId": "4bc42a5c-b47c-47ca-e82b-ccc7f1cda719",
        "colab": {
          "base_uri": "https://localhost:8080/",
          "height": 34
        }
      },
      "source": [
        "# Median.\n",
        "np.median(X)"
      ],
      "execution_count": 256,
      "outputs": [
        {
          "output_type": "execute_result",
          "data": {
            "text/plain": [
              "0.48680824458762906"
            ]
          },
          "metadata": {
            "tags": []
          },
          "execution_count": 256
        }
      ]
    },
    {
      "cell_type": "code",
      "metadata": {
        "id": "TA2jTgST-qIS",
        "colab_type": "code",
        "outputId": "1614de9e-3995-456e-ff3f-a3d3733f8a7c",
        "colab": {
          "base_uri": "https://localhost:8080/",
          "height": 34
        }
      },
      "source": [
        "# Standard Deviation.\n",
        "np.std(X)"
      ],
      "execution_count": 257,
      "outputs": [
        {
          "output_type": "execute_result",
          "data": {
            "text/plain": [
              "0.3039582399478298"
            ]
          },
          "metadata": {
            "tags": []
          },
          "execution_count": 257
        }
      ]
    },
    {
      "cell_type": "code",
      "metadata": {
        "id": "vsK7OITZRReG",
        "colab_type": "code",
        "colab": {
          "base_uri": "https://localhost:8080/",
          "height": 187
        },
        "outputId": "e6cbf674-6fdd-4271-bd12-d4f12ff05450"
      },
      "source": [
        "# Question 8.\n",
        "# Normalize a 5x5 random matrix.\n",
        "\n",
        "X=np.random.random((5, 5))\n",
        "X= 2020*X\n",
        "X\n",
        "\n"
      ],
      "execution_count": 262,
      "outputs": [
        {
          "output_type": "execute_result",
          "data": {
            "text/plain": [
              "array([[1350.58082628,  686.73942804, 1127.17694601, 1872.24837093,\n",
              "         524.05791516],\n",
              "       [ 352.35717247, 1017.52950821,  285.81352039,  396.05773342,\n",
              "        1062.04512036],\n",
              "       [ 279.85619681,  160.77248986, 1448.62766351, 1797.07859172,\n",
              "        1500.58610142],\n",
              "       [1397.14017396, 1481.43656875, 1797.38526819, 1442.56858776,\n",
              "         528.68933427],\n",
              "       [ 389.70007188, 1984.02372228, 1953.58904572,  761.37783589,\n",
              "         149.48217979]])"
            ]
          },
          "metadata": {
            "tags": []
          },
          "execution_count": 262
        }
      ]
    },
    {
      "cell_type": "code",
      "metadata": {
        "id": "ebZbtX4SSaNL",
        "colab_type": "code",
        "colab": {
          "base_uri": "https://localhost:8080/",
          "height": 102
        },
        "outputId": "e987a6c2-31e9-4cf0-f09d-bc98b299a859"
      },
      "source": [
        "# This is ONE way to normalise the matrix.\n",
        "# Subtract the mean.\n",
        "X = X - X.mean()\n",
        "# Divide by the maximum.\n",
        "X = X / X.max()\n",
        "# Numbers generated are between -1 and 1.\n",
        "X"
      ],
      "execution_count": 264,
      "outputs": [
        {
          "output_type": "execute_result",
          "data": {
            "text/plain": [
              "array([[ 0.33611597, -0.35962742,  0.10197605,  0.8828531 , -0.53012686],\n",
              "       [-0.71007896, -0.01294068, -0.77982048, -0.6642783 ,  0.03371421],\n",
              "       [-0.78606409, -0.91087056,  0.43887461,  0.80407091,  0.49332999],\n",
              "       [ 0.3849128 ,  0.4732602 ,  0.80439233,  0.43252435, -0.52527287],\n",
              "       [-0.67094149,  1.        ,  0.96810274, -0.28140214, -0.92270344]])"
            ]
          },
          "metadata": {
            "tags": []
          },
          "execution_count": 264
        }
      ]
    },
    {
      "cell_type": "code",
      "metadata": {
        "id": "4oas5xg9TTMG",
        "colab_type": "code",
        "colab": {}
      },
      "source": [
        "# Question 11.\n",
        "#\n",
        "# Consider an array of dimension (4,4,3), how to mulitply it by an array with dimensions (4,4)?\n",
        "#\n",
        "# The matrix equation y=Ax can be written using indices:-\n",
        "# y(k)= Sum over j: A(k,j)*x(j)\n",
        "#\n",
        "# A generalisation to higher dimensions could be;\n",
        "#\n",
        "# y(k) = Sum over i and j: A(i,j,k)*x(i,j)\n",
        "#\n",
        "# In the example i and j would range from 1 to 4. (0 to 3 in Python!),\n",
        "# and k would range from 1 to 3 (0 to 2).\n",
        "# So A would be a 3 by 4 by 4 matrix,  x a 4 by 4 matrix , and y a 3 by 1 matrix.\n",
        "#\n"
      ],
      "execution_count": 0,
      "outputs": []
    }
  ]
}