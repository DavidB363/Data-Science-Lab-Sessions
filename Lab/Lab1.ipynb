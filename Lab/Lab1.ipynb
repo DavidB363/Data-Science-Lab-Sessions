{
  "nbformat": 4,
  "nbformat_minor": 0,
  "metadata": {
    "colab": {
      "name": "Lab1.ipynb",
      "provenance": [],
      "authorship_tag": "ABX9TyOMH8LS7HyJeUaw3Mz0efuw",
      "include_colab_link": true
    },
    "kernelspec": {
      "name": "python3",
      "display_name": "Python 3"
    }
  },
  "cells": [
    {
      "cell_type": "markdown",
      "metadata": {
        "id": "view-in-github",
        "colab_type": "text"
      },
      "source": [
        "<a href=\"https://colab.research.google.com/github/DavidB363/file-store/blob/master/Lab/Lab1.ipynb\" target=\"_parent\"><img src=\"https://colab.research.google.com/assets/colab-badge.svg\" alt=\"Open In Colab\"/></a>"
      ]
    },
    {
      "cell_type": "code",
      "metadata": {
        "id": "MXRrUNhi8GAN",
        "colab_type": "code",
        "colab": {}
      },
      "source": [
        ""
      ],
      "execution_count": 0,
      "outputs": []
    },
    {
      "cell_type": "code",
      "metadata": {
        "id": "otxRe6SW9T6Y",
        "colab_type": "code",
        "outputId": "39c1928a-9e22-49f6-cd58-1fb4f4974cec",
        "colab": {
          "base_uri": "https://localhost:8080/",
          "height": 136
        }
      },
      "source": [
        "import numpy as np\n",
        "\n",
        "# Simple array creation\n",
        "a = np.array([[0, 1],[2, 3],[4, 5],[6, 7]])\n",
        "\n",
        "# Print out the values of the array\n",
        "print(a)\n",
        "\n",
        "print('Shape =', a.shape)\n",
        "print('Size =', a.size)\n",
        "print('Dimension -', a.ndim)\n"
      ],
      "execution_count": 0,
      "outputs": [
        {
          "output_type": "stream",
          "text": [
            "[[0 1]\n",
            " [2 3]\n",
            " [4 5]\n",
            " [6 7]]\n",
            "Shape = (4, 2)\n",
            "Size = 8\n",
            "Dimension - 2\n"
          ],
          "name": "stdout"
        }
      ]
    }
  ]
}