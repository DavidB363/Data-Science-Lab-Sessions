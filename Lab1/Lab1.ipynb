{
  "nbformat": 4,
  "nbformat_minor": 0,
  "metadata": {
    "colab": {
      "name": "Lab1.ipynb",
      "provenance": [],
      "authorship_tag": "ABX9TyNwIT7SfNa1sDqFPSlzm/g5",
      "include_colab_link": true
    },
    "kernelspec": {
      "name": "python3",
      "display_name": "Python 3"
    }
  },
  "cells": [
    {
      "cell_type": "markdown",
      "metadata": {
        "id": "view-in-github",
        "colab_type": "text"
      },
      "source": [
        "<a href=\"https://colab.research.google.com/github/DavidB363/file-store/blob/master/Lab1/Lab1.ipynb\" target=\"_parent\"><img src=\"https://colab.research.google.com/assets/colab-badge.svg\" alt=\"Open In Colab\"/></a>"
      ]
    },
    {
      "cell_type": "code",
      "metadata": {
        "id": "otxRe6SW9T6Y",
        "colab_type": "code",
        "outputId": "27beb323-5994-4f22-9e88-2272319f00db",
        "colab": {
          "base_uri": "https://localhost:8080/",
          "height": 136
        }
      },
      "source": [
        "# Question 1.\n",
        "# Create 2x2 array and print its attributes.\n",
        "\n",
        "\n",
        "import numpy as np\n",
        "\n",
        "# Simple array creation.\n",
        "a = np.array([[0, 1],[2, 3],[4, 5],[6, 7]])\n",
        "\n",
        "# Print out the values of the array.\n",
        "print(a)\n",
        "\n",
        "print('Shape =', a.shape)\n",
        "print('Size =', a.size)\n",
        "print('Dimension -', a.ndim)\n"
      ],
      "execution_count": 183,
      "outputs": [
        {
          "output_type": "stream",
          "text": [
            "[[0 1]\n",
            " [2 3]\n",
            " [4 5]\n",
            " [6 7]]\n",
            "Shape = (4, 2)\n",
            "Size = 8\n",
            "Dimension - 2\n"
          ],
          "name": "stdout"
        }
      ]
    },
    {
      "cell_type": "code",
      "metadata": {
        "id": "qZ63UIrwHy63",
        "colab_type": "code",
        "outputId": "be4148de-ed26-4fc7-a4ee-1d89d4f57cd3",
        "colab": {
          "base_uri": "https://localhost:8080/",
          "height": 102
        }
      },
      "source": [
        "# Question 2.\n",
        "# Create an array of dimension (1,10) and sort it in ascending and descending order.\n",
        "\n",
        "a = np.array([[5, 1, 9, 3, 0, 4, 2, 7, 8, 6]])\n",
        "\n",
        "# Print out the values of the array.\n",
        "print(a)\n",
        "\n",
        "print('Shape =', a.shape)\n",
        "print('Size =', a.size)\n",
        "print('Dimension -', a.ndim)\n",
        "\n",
        "#sort in ascending order\n",
        "a_sorted_asc = np.sort(a)\n",
        "a_sorted_asc\n",
        "\n",
        "\n",
        "\n",
        "\n",
        "\n",
        "\n"
      ],
      "execution_count": 184,
      "outputs": [
        {
          "output_type": "stream",
          "text": [
            "[[5 1 9 3 0 4 2 7 8 6]]\n",
            "Shape = (1, 10)\n",
            "Size = 10\n",
            "Dimension - 2\n"
          ],
          "name": "stdout"
        },
        {
          "output_type": "execute_result",
          "data": {
            "text/plain": [
              "array([[0, 1, 2, 3, 4, 5, 6, 7, 8, 9]])"
            ]
          },
          "metadata": {
            "tags": []
          },
          "execution_count": 184
        }
      ]
    },
    {
      "cell_type": "code",
      "metadata": {
        "id": "B_Rd94qwN1mF",
        "colab_type": "code",
        "outputId": "62822960-cbaf-4c71-c590-be8ffeae8f05",
        "colab": {
          "base_uri": "https://localhost:8080/",
          "height": 34
        }
      },
      "source": [
        "#sort in descending order\n",
        "a_sorted_des = -np.sort(-a)\n",
        "a_sorted_des"
      ],
      "execution_count": 185,
      "outputs": [
        {
          "output_type": "execute_result",
          "data": {
            "text/plain": [
              "array([[9, 8, 7, 6, 5, 4, 3, 2, 1, 0]])"
            ]
          },
          "metadata": {
            "tags": []
          },
          "execution_count": 185
        }
      ]
    },
    {
      "cell_type": "code",
      "metadata": {
        "id": "Q5r63QY1Mrg0",
        "colab_type": "code",
        "outputId": "337c8526-b34e-4f1c-f83d-842a6e44c2b1",
        "colab": {
          "base_uri": "https://localhost:8080/",
          "height": 34
        }
      },
      "source": [
        "# Question 3.\n",
        "# Convert an 1D array [1 2 3 4 5 6 7 8 9] to 2D array [[1 2 3], [4 5 6], [7 8 9]].\n",
        "\n",
        "x = np.array([1, 2, 3, 4, 5, 6, 7, 8, 9])\n",
        "x\n"
      ],
      "execution_count": 186,
      "outputs": [
        {
          "output_type": "execute_result",
          "data": {
            "text/plain": [
              "array([1, 2, 3, 4, 5, 6, 7, 8, 9])"
            ]
          },
          "metadata": {
            "tags": []
          },
          "execution_count": 186
        }
      ]
    },
    {
      "cell_type": "code",
      "metadata": {
        "id": "Cs1FXz7fOc0I",
        "colab_type": "code",
        "outputId": "4fcbcecd-df21-4cc7-b9c9-c9d042eb5baa",
        "colab": {
          "base_uri": "https://localhost:8080/",
          "height": 68
        }
      },
      "source": [
        "X = np.reshape(x, (-1, 3))\n",
        "X"
      ],
      "execution_count": 187,
      "outputs": [
        {
          "output_type": "execute_result",
          "data": {
            "text/plain": [
              "array([[1, 2, 3],\n",
              "       [4, 5, 6],\n",
              "       [7, 8, 9]])"
            ]
          },
          "metadata": {
            "tags": []
          },
          "execution_count": 187
        }
      ]
    },
    {
      "cell_type": "code",
      "metadata": {
        "id": "YXNiaDhUQAbs",
        "colab_type": "code",
        "outputId": "41a0a196-9fd9-4b4b-edef-64831f4abb27",
        "colab": {
          "base_uri": "https://localhost:8080/",
          "height": 68
        }
      },
      "source": [
        "# Question 4.\n",
        "# Stack two arrays of any size horizontally and vertically.\n",
        "\n",
        "# Vertical stacking of arrays.\n",
        "A = np.array([[1, 2, 3, 6],\n",
        "       [4, 5, 6, 9],\n",
        "       [7, 8, 9, 4]])\n",
        "A\n"
      ],
      "execution_count": 188,
      "outputs": [
        {
          "output_type": "execute_result",
          "data": {
            "text/plain": [
              "array([[1, 2, 3, 6],\n",
              "       [4, 5, 6, 9],\n",
              "       [7, 8, 9, 4]])"
            ]
          },
          "metadata": {
            "tags": []
          },
          "execution_count": 188
        }
      ]
    },
    {
      "cell_type": "code",
      "metadata": {
        "id": "CbSeSKRAQnNL",
        "colab_type": "code",
        "outputId": "c58829a0-df4d-441e-87dd-cd0695f83a53",
        "colab": {
          "base_uri": "https://localhost:8080/",
          "height": 51
        }
      },
      "source": [
        "B= np.array([[10, 20, 30,40],\n",
        "       [40, 50, 60,70]])\n",
        "B"
      ],
      "execution_count": 189,
      "outputs": [
        {
          "output_type": "execute_result",
          "data": {
            "text/plain": [
              "array([[10, 20, 30, 40],\n",
              "       [40, 50, 60, 70]])"
            ]
          },
          "metadata": {
            "tags": []
          },
          "execution_count": 189
        }
      ]
    },
    {
      "cell_type": "code",
      "metadata": {
        "id": "SqrxEMv5Qp5R",
        "colab_type": "code",
        "outputId": "4d624acd-4d5a-466e-a536-f72ed35a7ca1",
        "colab": {
          "base_uri": "https://localhost:8080/",
          "height": 102
        }
      },
      "source": [
        "\n",
        "np.vstack((A,B))"
      ],
      "execution_count": 190,
      "outputs": [
        {
          "output_type": "execute_result",
          "data": {
            "text/plain": [
              "array([[ 1,  2,  3,  6],\n",
              "       [ 4,  5,  6,  9],\n",
              "       [ 7,  8,  9,  4],\n",
              "       [10, 20, 30, 40],\n",
              "       [40, 50, 60, 70]])"
            ]
          },
          "metadata": {
            "tags": []
          },
          "execution_count": 190
        }
      ]
    },
    {
      "cell_type": "code",
      "metadata": {
        "id": "zIhR3M-aroKi",
        "colab_type": "code",
        "colab": {
          "base_uri": "https://localhost:8080/",
          "height": 68
        },
        "outputId": "a4c0f1a9-a97a-4d8c-9bae-90597723869c"
      },
      "source": [
        "# Horizontal stacking of arrays.\n",
        "C=np.array([[5, 7, 8, 9, 3],\n",
        "    [8, 9, 2, 7, 2],\n",
        "    [4, 5, 7, 7, 1]])\n",
        "C"
      ],
      "execution_count": 191,
      "outputs": [
        {
          "output_type": "execute_result",
          "data": {
            "text/plain": [
              "array([[5, 7, 8, 9, 3],\n",
              "       [8, 9, 2, 7, 2],\n",
              "       [4, 5, 7, 7, 1]])"
            ]
          },
          "metadata": {
            "tags": []
          },
          "execution_count": 191
        }
      ]
    },
    {
      "cell_type": "code",
      "metadata": {
        "id": "-HxNt9iWr-q3",
        "colab_type": "code",
        "colab": {
          "base_uri": "https://localhost:8080/",
          "height": 68
        },
        "outputId": "304e880e-9e28-41e6-bae2-57b1b400e2a0"
      },
      "source": [
        "D=np.array([[8, 6],\n",
        "    [3, 5],\n",
        "    [9, 2]])\n",
        "D"
      ],
      "execution_count": 192,
      "outputs": [
        {
          "output_type": "execute_result",
          "data": {
            "text/plain": [
              "array([[8, 6],\n",
              "       [3, 5],\n",
              "       [9, 2]])"
            ]
          },
          "metadata": {
            "tags": []
          },
          "execution_count": 192
        }
      ]
    },
    {
      "cell_type": "code",
      "metadata": {
        "id": "nvOGP0mysgQy",
        "colab_type": "code",
        "colab": {
          "base_uri": "https://localhost:8080/",
          "height": 68
        },
        "outputId": "daf2fc75-a727-427d-9648-d34ef7a7dd01"
      },
      "source": [
        "np.hstack((C,D))"
      ],
      "execution_count": 193,
      "outputs": [
        {
          "output_type": "execute_result",
          "data": {
            "text/plain": [
              "array([[5, 7, 8, 9, 3, 8, 6],\n",
              "       [8, 9, 2, 7, 2, 3, 5],\n",
              "       [4, 5, 7, 7, 1, 9, 2]])"
            ]
          },
          "metadata": {
            "tags": []
          },
          "execution_count": 193
        }
      ]
    },
    {
      "cell_type": "code",
      "metadata": {
        "id": "uxKQDR4Px4ik",
        "colab_type": "code",
        "colab": {}
      },
      "source": [
        "# Question 5.\n",
        "#Create two array of same size and find commom elements.\n",
        "\n",
        "# Finding the common elements in two arrays\n",
        "\n",
        "C=np.array([[5, 7, 15, 9, 3],\n",
        "    [14, 9, 2, 7, 2],\n",
        "    [4, 5, 7, 7, 1]])"
      ],
      "execution_count": 0,
      "outputs": []
    },
    {
      "cell_type": "code",
      "metadata": {
        "id": "lxopA1zZ6QB0",
        "colab_type": "code",
        "colab": {
          "base_uri": "https://localhost:8080/",
          "height": 51
        },
        "outputId": "feff1b11-49e1-40b7-c7f2-1e31de35294a"
      },
      "source": [
        "print('size =', C.size)\n",
        "print('shape =',C.shape)\n"
      ],
      "execution_count": 195,
      "outputs": [
        {
          "output_type": "stream",
          "text": [
            "size = 15\n",
            "shape = (3, 5)\n"
          ],
          "name": "stdout"
        }
      ]
    },
    {
      "cell_type": "code",
      "metadata": {
        "id": "KzzG_3OvyV1Z",
        "colab_type": "code",
        "colab": {
          "base_uri": "https://localhost:8080/",
          "height": 51
        },
        "outputId": "89961e8f-62c7-4fa7-8795-2443559ad5ce"
      },
      "source": [
        "D=np.array([[1, 3, 11],\n",
        "    [2, 8, 2],\n",
        "    [13, 9, 1],\n",
        "    [15, 6, 7],\n",
        "    [16, 8, 7],])\n",
        "\n",
        "print('size =', D.size)\n",
        "print('shape =',D.shape)\n",
        "\n",
        "# Note that C and D have the same size, but different shape."
      ],
      "execution_count": 196,
      "outputs": [
        {
          "output_type": "stream",
          "text": [
            "size = 15\n",
            "shape = (5, 3)\n"
          ],
          "name": "stdout"
        }
      ]
    },
    {
      "cell_type": "code",
      "metadata": {
        "id": "Ie_3AkFiya-Y",
        "colab_type": "code",
        "colab": {
          "base_uri": "https://localhost:8080/",
          "height": 34
        },
        "outputId": "74d16c7a-c506-416f-f0ed-db0ac567b102"
      },
      "source": [
        "np.intersect1d(C, D)"
      ],
      "execution_count": 197,
      "outputs": [
        {
          "output_type": "execute_result",
          "data": {
            "text/plain": [
              "array([ 1,  2,  3,  7,  9, 15])"
            ]
          },
          "metadata": {
            "tags": []
          },
          "execution_count": 197
        }
      ]
    },
    {
      "cell_type": "code",
      "metadata": {
        "id": "LDc0nwoXyueI",
        "colab_type": "code",
        "colab": {
          "base_uri": "https://localhost:8080/",
          "height": 102
        },
        "outputId": "c5ca2b40-b5f5-426e-e068-52b8552ac4f0"
      },
      "source": [
        "# Question 6.\n",
        "# Finding the minumum and maximum values in each row and column of an array.\n",
        "\n",
        "X = np.array([[12, 2, 3, 5, 8],\n",
        "              [11, 15, 3, 3, 15],\n",
        "              [6, 8, 11, 19, 1],\n",
        "              [4, 11, 2, 7, 5],\n",
        "              [4, 16, 6, 16, 17]])\n",
        "\n",
        "X\n",
        "\n"
      ],
      "execution_count": 198,
      "outputs": [
        {
          "output_type": "execute_result",
          "data": {
            "text/plain": [
              "array([[12,  2,  3,  5,  8],\n",
              "       [11, 15,  3,  3, 15],\n",
              "       [ 6,  8, 11, 19,  1],\n",
              "       [ 4, 11,  2,  7,  5],\n",
              "       [ 4, 16,  6, 16, 17]])"
            ]
          },
          "metadata": {
            "tags": []
          },
          "execution_count": 198
        }
      ]
    },
    {
      "cell_type": "code",
      "metadata": {
        "id": "GriIx3Fc1E9t",
        "colab_type": "code",
        "colab": {
          "base_uri": "https://localhost:8080/",
          "height": 34
        },
        "outputId": "a63ade29-0937-4109-a0e8-0b7aa01d8d76"
      },
      "source": [
        "(num_rows,num_cols)=X.shape\n",
        "num_rows"
      ],
      "execution_count": 199,
      "outputs": [
        {
          "output_type": "execute_result",
          "data": {
            "text/plain": [
              "5"
            ]
          },
          "metadata": {
            "tags": []
          },
          "execution_count": 199
        }
      ]
    },
    {
      "cell_type": "code",
      "metadata": {
        "id": "LUrh82q_2PcU",
        "colab_type": "code",
        "colab": {
          "base_uri": "https://localhost:8080/",
          "height": 34
        },
        "outputId": "7588eb29-0f41-406d-bc79-95f89db89bac"
      },
      "source": [
        "num_cols"
      ],
      "execution_count": 200,
      "outputs": [
        {
          "output_type": "execute_result",
          "data": {
            "text/plain": [
              "5"
            ]
          },
          "metadata": {
            "tags": []
          },
          "execution_count": 200
        }
      ]
    },
    {
      "cell_type": "code",
      "metadata": {
        "id": "M9hx6oLT2g8C",
        "colab_type": "code",
        "colab": {
          "base_uri": "https://localhost:8080/",
          "height": 102
        },
        "outputId": "fb1847e6-9503-4f36-8ace-452ab67d138a"
      },
      "source": [
        "for i in range(num_rows):\n",
        "  print('Row:', i, 'Minimum is' , min(X[i,:]), 'Maximum is',  max(X[i,:]))"
      ],
      "execution_count": 201,
      "outputs": [
        {
          "output_type": "stream",
          "text": [
            "Row: 0 Minimum is 2 Maximum is 12\n",
            "Row: 1 Minimum is 3 Maximum is 15\n",
            "Row: 2 Minimum is 1 Maximum is 19\n",
            "Row: 3 Minimum is 2 Maximum is 11\n",
            "Row: 4 Minimum is 4 Maximum is 17\n"
          ],
          "name": "stdout"
        }
      ]
    },
    {
      "cell_type": "code",
      "metadata": {
        "id": "waSNTnxO4EsD",
        "colab_type": "code",
        "colab": {
          "base_uri": "https://localhost:8080/",
          "height": 102
        },
        "outputId": "2dc4f2ab-9aa5-4d24-92c1-f0c43fd27313"
      },
      "source": [
        "for j in range(num_rows):\n",
        "  print('Column:', j, 'Minimum is' , min(X[:,j]), 'Maximum is',  max(X[:,j]))"
      ],
      "execution_count": 202,
      "outputs": [
        {
          "output_type": "stream",
          "text": [
            "Column: 0 Minimum is 4 Maximum is 12\n",
            "Column: 1 Minimum is 2 Maximum is 16\n",
            "Column: 2 Minimum is 2 Maximum is 11\n",
            "Column: 3 Minimum is 3 Maximum is 19\n",
            "Column: 4 Minimum is 1 Maximum is 17\n"
          ],
          "name": "stdout"
        }
      ]
    },
    {
      "cell_type": "code",
      "metadata": {
        "id": "px39jPVG4e5Q",
        "colab_type": "code",
        "colab": {
          "base_uri": "https://localhost:8080/",
          "height": 357
        },
        "outputId": "fca1b66b-796a-48da-d6cb-857011a7dff7"
      },
      "source": [
        "# Question 7.\n",
        "# Create an array of size 100 and compute the mean, median, standard deviation.\n",
        "\n",
        "X=np.random.random((5, 20))\n",
        "X\n",
        "\n"
      ],
      "execution_count": 203,
      "outputs": [
        {
          "output_type": "execute_result",
          "data": {
            "text/plain": [
              "array([[0.05649499, 0.83423617, 0.8046018 , 0.93859758, 0.3542794 ,\n",
              "        0.24056857, 0.21789578, 0.34393091, 0.27303193, 0.00587143,\n",
              "        0.48179019, 0.34755425, 0.12861787, 0.29305527, 0.90919621,\n",
              "        0.00797437, 0.72200813, 0.58500182, 0.17285868, 0.09107312],\n",
              "       [0.15398085, 0.33306051, 0.5260643 , 0.9791114 , 0.15127592,\n",
              "        0.88121332, 0.67314549, 0.14006843, 0.91312961, 0.31519437,\n",
              "        0.5338472 , 0.57237264, 0.81723192, 0.06095924, 0.29563244,\n",
              "        0.20005566, 0.27729281, 0.21562185, 0.32173179, 0.94864552],\n",
              "       [0.13833101, 0.20312749, 0.77840692, 0.92942846, 0.39681191,\n",
              "        0.81245036, 0.89774153, 0.9414164 , 0.55069463, 0.79378146,\n",
              "        0.79024456, 0.5809957 , 0.87562958, 0.11172521, 0.37876424,\n",
              "        0.04366037, 0.40141518, 0.88181569, 0.8494062 , 0.49246538],\n",
              "       [0.71712964, 0.2791918 , 0.06526429, 0.25000038, 0.33434721,\n",
              "        0.89916618, 0.43831775, 0.20304626, 0.66702961, 0.01753925,\n",
              "        0.52571611, 0.85016499, 0.50707362, 0.4948553 , 0.7406115 ,\n",
              "        0.82410814, 0.70240723, 0.16172736, 0.50373159, 0.2044528 ],\n",
              "       [0.2310132 , 0.18653175, 0.85810128, 0.46288412, 0.23374223,\n",
              "        0.2059685 , 0.98550998, 0.35027397, 0.02289551, 0.26005994,\n",
              "        0.7338757 , 0.40794797, 0.18696985, 0.78456678, 0.88230733,\n",
              "        0.46788585, 0.38254387, 0.24731034, 0.83981967, 0.75205677]])"
            ]
          },
          "metadata": {
            "tags": []
          },
          "execution_count": 203
        }
      ]
    },
    {
      "cell_type": "code",
      "metadata": {
        "id": "8Afu1J3W40JN",
        "colab_type": "code",
        "colab": {
          "base_uri": "https://localhost:8080/",
          "height": 34
        },
        "outputId": "05c32eb8-5d65-4a4e-dd79-15edf2619402"
      },
      "source": [
        "X.size"
      ],
      "execution_count": 204,
      "outputs": [
        {
          "output_type": "execute_result",
          "data": {
            "text/plain": [
              "100"
            ]
          },
          "metadata": {
            "tags": []
          },
          "execution_count": 204
        }
      ]
    },
    {
      "cell_type": "code",
      "metadata": {
        "id": "GHpayEUO-hVk",
        "colab_type": "code",
        "colab": {
          "base_uri": "https://localhost:8080/",
          "height": 34
        },
        "outputId": "9971fac4-2237-4689-d7d0-2790f002173b"
      },
      "source": [
        "np.mean(X)"
      ],
      "execution_count": 205,
      "outputs": [
        {
          "output_type": "execute_result",
          "data": {
            "text/plain": [
              "0.47834731615808274"
            ]
          },
          "metadata": {
            "tags": []
          },
          "execution_count": 205
        }
      ]
    },
    {
      "cell_type": "code",
      "metadata": {
        "id": "17w3z312-mGS",
        "colab_type": "code",
        "colab": {
          "base_uri": "https://localhost:8080/",
          "height": 34
        },
        "outputId": "57b244a4-abc4-447e-d1a9-b46f517cae94"
      },
      "source": [
        "np.median(X)"
      ],
      "execution_count": 206,
      "outputs": [
        {
          "output_type": "execute_result",
          "data": {
            "text/plain": [
              "0.42313286285860036"
            ]
          },
          "metadata": {
            "tags": []
          },
          "execution_count": 206
        }
      ]
    },
    {
      "cell_type": "code",
      "metadata": {
        "id": "TA2jTgST-qIS",
        "colab_type": "code",
        "colab": {
          "base_uri": "https://localhost:8080/",
          "height": 34
        },
        "outputId": "f206737c-2d81-439b-e04b-e66eb10715b7"
      },
      "source": [
        "np.std(X)"
      ],
      "execution_count": 207,
      "outputs": [
        {
          "output_type": "execute_result",
          "data": {
            "text/plain": [
              "0.29598440856723945"
            ]
          },
          "metadata": {
            "tags": []
          },
          "execution_count": 207
        }
      ]
    }
  ]
}