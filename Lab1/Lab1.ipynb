{
  "nbformat": 4,
  "nbformat_minor": 0,
  "metadata": {
    "colab": {
      "name": "Lab1.ipynb",
      "provenance": [],
      "authorship_tag": "ABX9TyNpbDa8DUkeGHkci0lE3Bfc",
      "include_colab_link": true
    },
    "kernelspec": {
      "name": "python3",
      "display_name": "Python 3"
    }
  },
  "cells": [
    {
      "cell_type": "markdown",
      "metadata": {
        "id": "view-in-github",
        "colab_type": "text"
      },
      "source": [
        "<a href=\"https://colab.research.google.com/github/DavidB363/file-store/blob/master/Lab1/Lab1.ipynb\" target=\"_parent\"><img src=\"https://colab.research.google.com/assets/colab-badge.svg\" alt=\"Open In Colab\"/></a>"
      ]
    },
    {
      "cell_type": "code",
      "metadata": {
        "id": "otxRe6SW9T6Y",
        "colab_type": "code",
        "outputId": "b8579438-ba95-440e-c824-67321e287546",
        "colab": {
          "base_uri": "https://localhost:8080/",
          "height": 136
        }
      },
      "source": [
        "# Question 1.\n",
        "# Create 2x2 array and print its attributes.\n",
        "\n",
        "\n",
        "import numpy as np\n",
        "\n",
        "# Simple array creation.\n",
        "a = np.array([[0, 1],[2, 3],[4, 5],[6, 7]])\n",
        "\n",
        "# Print out the values of the array.\n",
        "print(a)\n",
        "\n",
        "print('Shape =', a.shape)\n",
        "print('Size =', a.size)\n",
        "print('Dimension -', a.ndim)\n"
      ],
      "execution_count": 0,
      "outputs": [
        {
          "output_type": "stream",
          "text": [
            "[[0 1]\n",
            " [2 3]\n",
            " [4 5]\n",
            " [6 7]]\n",
            "Shape = (4, 2)\n",
            "Size = 8\n",
            "Dimension - 2\n"
          ],
          "name": "stdout"
        }
      ]
    },
    {
      "cell_type": "code",
      "metadata": {
        "id": "qZ63UIrwHy63",
        "colab_type": "code",
        "outputId": "b84b6120-2490-4922-ae7b-df27cb0f7c28",
        "colab": {
          "base_uri": "https://localhost:8080/",
          "height": 102
        }
      },
      "source": [
        "# Question 2.\n",
        "# Create an array of dimension (1,10) and sort it in ascending and descending order.\n",
        "\n",
        "a = np.array([[5, 1, 9, 3, 0, 4, 2, 7, 8, 6]])\n",
        "\n",
        "# Print out the values of the array.\n",
        "print(a)\n",
        "\n",
        "print('Shape =', a.shape)\n",
        "print('Size =', a.size)\n",
        "print('Dimension -', a.ndim)\n",
        "\n",
        "#sort in ascending order\n",
        "a_sorted_asc = np.sort(a)\n",
        "a_sorted_asc\n",
        "\n",
        "\n",
        "\n",
        "\n",
        "\n",
        "\n"
      ],
      "execution_count": 0,
      "outputs": [
        {
          "output_type": "stream",
          "text": [
            "[[5 1 9 3 0 4 2 7 8 6]]\n",
            "Shape = (1, 10)\n",
            "Size = 10\n",
            "Dimension - 2\n"
          ],
          "name": "stdout"
        },
        {
          "output_type": "execute_result",
          "data": {
            "text/plain": [
              "array([[0, 1, 2, 3, 4, 5, 6, 7, 8, 9]])"
            ]
          },
          "metadata": {
            "tags": []
          },
          "execution_count": 339
        }
      ]
    },
    {
      "cell_type": "code",
      "metadata": {
        "id": "B_Rd94qwN1mF",
        "colab_type": "code",
        "outputId": "7c2e516b-4750-47b7-9fce-9f28808a7055",
        "colab": {
          "base_uri": "https://localhost:8080/",
          "height": 34
        }
      },
      "source": [
        "#sort in descending order\n",
        "a_sorted_des = -np.sort(-a)\n",
        "a_sorted_des"
      ],
      "execution_count": 0,
      "outputs": [
        {
          "output_type": "execute_result",
          "data": {
            "text/plain": [
              "array([[9, 8, 7, 6, 5, 4, 3, 2, 1, 0]])"
            ]
          },
          "metadata": {
            "tags": []
          },
          "execution_count": 340
        }
      ]
    },
    {
      "cell_type": "code",
      "metadata": {
        "id": "Q5r63QY1Mrg0",
        "colab_type": "code",
        "outputId": "d4dc28d2-4e8b-4655-b30a-faabed717270",
        "colab": {
          "base_uri": "https://localhost:8080/",
          "height": 34
        }
      },
      "source": [
        "# Question 3.\n",
        "# Convert an 1D array [1 2 3 4 5 6 7 8 9] to 2D array [[1 2 3], [4 5 6], [7 8 9]].\n",
        "\n",
        "x = np.array([1, 2, 3, 4, 5, 6, 7, 8, 9])\n",
        "x\n"
      ],
      "execution_count": 0,
      "outputs": [
        {
          "output_type": "execute_result",
          "data": {
            "text/plain": [
              "array([1, 2, 3, 4, 5, 6, 7, 8, 9])"
            ]
          },
          "metadata": {
            "tags": []
          },
          "execution_count": 341
        }
      ]
    },
    {
      "cell_type": "code",
      "metadata": {
        "id": "Cs1FXz7fOc0I",
        "colab_type": "code",
        "outputId": "9112cf38-d726-4511-f42f-ec095754537a",
        "colab": {
          "base_uri": "https://localhost:8080/",
          "height": 68
        }
      },
      "source": [
        "X = np.reshape(x, (-1, 3))\n",
        "X"
      ],
      "execution_count": 0,
      "outputs": [
        {
          "output_type": "execute_result",
          "data": {
            "text/plain": [
              "array([[1, 2, 3],\n",
              "       [4, 5, 6],\n",
              "       [7, 8, 9]])"
            ]
          },
          "metadata": {
            "tags": []
          },
          "execution_count": 342
        }
      ]
    },
    {
      "cell_type": "code",
      "metadata": {
        "id": "YXNiaDhUQAbs",
        "colab_type": "code",
        "outputId": "ee968b9b-cc21-4df4-903a-0312bc69b574",
        "colab": {
          "base_uri": "https://localhost:8080/",
          "height": 68
        }
      },
      "source": [
        "# Question 4.\n",
        "# Stack two arrays of any size horizontally and vertically.\n",
        "\n",
        "# Vertical stacking of arrays.\n",
        "A = np.array([[1, 2, 3, 6],\n",
        "       [4, 5, 6, 9],\n",
        "       [7, 8, 9, 4]])\n",
        "A\n"
      ],
      "execution_count": 0,
      "outputs": [
        {
          "output_type": "execute_result",
          "data": {
            "text/plain": [
              "array([[1, 2, 3, 6],\n",
              "       [4, 5, 6, 9],\n",
              "       [7, 8, 9, 4]])"
            ]
          },
          "metadata": {
            "tags": []
          },
          "execution_count": 343
        }
      ]
    },
    {
      "cell_type": "code",
      "metadata": {
        "id": "CbSeSKRAQnNL",
        "colab_type": "code",
        "outputId": "0ee60f85-06c5-4606-fff4-e5bed91b8eff",
        "colab": {
          "base_uri": "https://localhost:8080/",
          "height": 51
        }
      },
      "source": [
        "B= np.array([[10, 20, 30,40],\n",
        "       [40, 50, 60,70]])\n",
        "B"
      ],
      "execution_count": 0,
      "outputs": [
        {
          "output_type": "execute_result",
          "data": {
            "text/plain": [
              "array([[10, 20, 30, 40],\n",
              "       [40, 50, 60, 70]])"
            ]
          },
          "metadata": {
            "tags": []
          },
          "execution_count": 344
        }
      ]
    },
    {
      "cell_type": "code",
      "metadata": {
        "id": "SqrxEMv5Qp5R",
        "colab_type": "code",
        "outputId": "3ab9c3ef-bd0f-43f7-ad38-711e7eee8215",
        "colab": {
          "base_uri": "https://localhost:8080/",
          "height": 102
        }
      },
      "source": [
        "\n",
        "np.vstack((A,B))"
      ],
      "execution_count": 0,
      "outputs": [
        {
          "output_type": "execute_result",
          "data": {
            "text/plain": [
              "array([[ 1,  2,  3,  6],\n",
              "       [ 4,  5,  6,  9],\n",
              "       [ 7,  8,  9,  4],\n",
              "       [10, 20, 30, 40],\n",
              "       [40, 50, 60, 70]])"
            ]
          },
          "metadata": {
            "tags": []
          },
          "execution_count": 345
        }
      ]
    },
    {
      "cell_type": "code",
      "metadata": {
        "id": "zIhR3M-aroKi",
        "colab_type": "code",
        "outputId": "7ed8e2ae-e707-4185-ad72-64cff5704d99",
        "colab": {
          "base_uri": "https://localhost:8080/",
          "height": 68
        }
      },
      "source": [
        "# Horizontal stacking of arrays.\n",
        "C=np.array([[5, 7, 8, 9, 3],\n",
        "    [8, 9, 2, 7, 2],\n",
        "    [4, 5, 7, 7, 1]])\n",
        "C"
      ],
      "execution_count": 0,
      "outputs": [
        {
          "output_type": "execute_result",
          "data": {
            "text/plain": [
              "array([[5, 7, 8, 9, 3],\n",
              "       [8, 9, 2, 7, 2],\n",
              "       [4, 5, 7, 7, 1]])"
            ]
          },
          "metadata": {
            "tags": []
          },
          "execution_count": 346
        }
      ]
    },
    {
      "cell_type": "code",
      "metadata": {
        "id": "-HxNt9iWr-q3",
        "colab_type": "code",
        "outputId": "557fa87b-845e-4c99-a694-4729cdd3702f",
        "colab": {
          "base_uri": "https://localhost:8080/",
          "height": 68
        }
      },
      "source": [
        "D=np.array([[8, 6],\n",
        "    [3, 5],\n",
        "    [9, 2]])\n",
        "D"
      ],
      "execution_count": 0,
      "outputs": [
        {
          "output_type": "execute_result",
          "data": {
            "text/plain": [
              "array([[8, 6],\n",
              "       [3, 5],\n",
              "       [9, 2]])"
            ]
          },
          "metadata": {
            "tags": []
          },
          "execution_count": 347
        }
      ]
    },
    {
      "cell_type": "code",
      "metadata": {
        "id": "nvOGP0mysgQy",
        "colab_type": "code",
        "outputId": "648bc20d-190f-42b8-9134-3f87cfa90568",
        "colab": {
          "base_uri": "https://localhost:8080/",
          "height": 68
        }
      },
      "source": [
        "np.hstack((C,D))"
      ],
      "execution_count": 0,
      "outputs": [
        {
          "output_type": "execute_result",
          "data": {
            "text/plain": [
              "array([[5, 7, 8, 9, 3, 8, 6],\n",
              "       [8, 9, 2, 7, 2, 3, 5],\n",
              "       [4, 5, 7, 7, 1, 9, 2]])"
            ]
          },
          "metadata": {
            "tags": []
          },
          "execution_count": 348
        }
      ]
    },
    {
      "cell_type": "code",
      "metadata": {
        "id": "uxKQDR4Px4ik",
        "colab_type": "code",
        "colab": {}
      },
      "source": [
        "# Question 5.\n",
        "#Create two array of same size and find commom elements.\n",
        "\n",
        "# Finding the common elements in two arrays\n",
        "\n",
        "C=np.array([[5, 7, 15, 9, 3],\n",
        "    [14, 9, 2, 7, 2],\n",
        "    [4, 5, 7, 7, 1]])"
      ],
      "execution_count": 0,
      "outputs": []
    },
    {
      "cell_type": "code",
      "metadata": {
        "id": "lxopA1zZ6QB0",
        "colab_type": "code",
        "outputId": "53ffd21f-cd5f-41fc-f785-9fa5a2e2bc5d",
        "colab": {
          "base_uri": "https://localhost:8080/",
          "height": 51
        }
      },
      "source": [
        "print('size =', C.size)\n",
        "print('shape =',C.shape)\n"
      ],
      "execution_count": 0,
      "outputs": [
        {
          "output_type": "stream",
          "text": [
            "size = 15\n",
            "shape = (3, 5)\n"
          ],
          "name": "stdout"
        }
      ]
    },
    {
      "cell_type": "code",
      "metadata": {
        "id": "KzzG_3OvyV1Z",
        "colab_type": "code",
        "outputId": "7f0a9a04-7be0-43c2-c17f-edeb11459d99",
        "colab": {
          "base_uri": "https://localhost:8080/",
          "height": 51
        }
      },
      "source": [
        "D=np.array([[1, 3, 11],\n",
        "    [2, 8, 2],\n",
        "    [13, 9, 1],\n",
        "    [15, 6, 7],\n",
        "    [16, 8, 7],])\n",
        "\n",
        "print('size =', D.size)\n",
        "print('shape =',D.shape)\n",
        "\n",
        "# Note that C and D have the same size, but different shape."
      ],
      "execution_count": 0,
      "outputs": [
        {
          "output_type": "stream",
          "text": [
            "size = 15\n",
            "shape = (5, 3)\n"
          ],
          "name": "stdout"
        }
      ]
    },
    {
      "cell_type": "code",
      "metadata": {
        "id": "Ie_3AkFiya-Y",
        "colab_type": "code",
        "outputId": "8a01ba6e-439a-473d-aed9-2414e797b3d6",
        "colab": {
          "base_uri": "https://localhost:8080/",
          "height": 34
        }
      },
      "source": [
        "np.intersect1d(C, D)"
      ],
      "execution_count": 0,
      "outputs": [
        {
          "output_type": "execute_result",
          "data": {
            "text/plain": [
              "array([ 1,  2,  3,  7,  9, 15])"
            ]
          },
          "metadata": {
            "tags": []
          },
          "execution_count": 352
        }
      ]
    },
    {
      "cell_type": "code",
      "metadata": {
        "id": "LDc0nwoXyueI",
        "colab_type": "code",
        "outputId": "bf448adc-ef19-4eaf-bf54-d3921f34845d",
        "colab": {
          "base_uri": "https://localhost:8080/",
          "height": 102
        }
      },
      "source": [
        "# Question 6.\n",
        "# Finding the minumum and maximum values in each row and column of an array.\n",
        "\n",
        "X = np.array([[12, 2, 3, 5, 8],\n",
        "              [11, 15, 3, 3, 15],\n",
        "              [6, 8, 11, 19, 1],\n",
        "              [4, 11, 2, 7, 5],\n",
        "              [4, 16, 6, 16, 17]])\n",
        "\n",
        "X\n",
        "\n"
      ],
      "execution_count": 0,
      "outputs": [
        {
          "output_type": "execute_result",
          "data": {
            "text/plain": [
              "array([[12,  2,  3,  5,  8],\n",
              "       [11, 15,  3,  3, 15],\n",
              "       [ 6,  8, 11, 19,  1],\n",
              "       [ 4, 11,  2,  7,  5],\n",
              "       [ 4, 16,  6, 16, 17]])"
            ]
          },
          "metadata": {
            "tags": []
          },
          "execution_count": 353
        }
      ]
    },
    {
      "cell_type": "code",
      "metadata": {
        "id": "GriIx3Fc1E9t",
        "colab_type": "code",
        "outputId": "31626810-6bab-4466-9a4e-e0f8213b35f9",
        "colab": {
          "base_uri": "https://localhost:8080/",
          "height": 34
        }
      },
      "source": [
        "(num_rows,num_cols)=X.shape\n",
        "num_rows"
      ],
      "execution_count": 0,
      "outputs": [
        {
          "output_type": "execute_result",
          "data": {
            "text/plain": [
              "5"
            ]
          },
          "metadata": {
            "tags": []
          },
          "execution_count": 354
        }
      ]
    },
    {
      "cell_type": "code",
      "metadata": {
        "id": "LUrh82q_2PcU",
        "colab_type": "code",
        "outputId": "c592c05a-5b0d-4302-f89b-26dbdc7db295",
        "colab": {
          "base_uri": "https://localhost:8080/",
          "height": 34
        }
      },
      "source": [
        "num_cols"
      ],
      "execution_count": 0,
      "outputs": [
        {
          "output_type": "execute_result",
          "data": {
            "text/plain": [
              "5"
            ]
          },
          "metadata": {
            "tags": []
          },
          "execution_count": 355
        }
      ]
    },
    {
      "cell_type": "code",
      "metadata": {
        "id": "M9hx6oLT2g8C",
        "colab_type": "code",
        "outputId": "7fb43790-f95a-4e58-d3cf-1b79179b5d5b",
        "colab": {
          "base_uri": "https://localhost:8080/",
          "height": 102
        }
      },
      "source": [
        "for i in range(num_rows):\n",
        "  print('Row:', i, 'Minimum is' , min(X[i,:]), 'Maximum is',  max(X[i,:]))"
      ],
      "execution_count": 0,
      "outputs": [
        {
          "output_type": "stream",
          "text": [
            "Row: 0 Minimum is 2 Maximum is 12\n",
            "Row: 1 Minimum is 3 Maximum is 15\n",
            "Row: 2 Minimum is 1 Maximum is 19\n",
            "Row: 3 Minimum is 2 Maximum is 11\n",
            "Row: 4 Minimum is 4 Maximum is 17\n"
          ],
          "name": "stdout"
        }
      ]
    },
    {
      "cell_type": "code",
      "metadata": {
        "id": "waSNTnxO4EsD",
        "colab_type": "code",
        "outputId": "e15ed2c4-fdff-4a70-e3d8-c36e0fb01a0c",
        "colab": {
          "base_uri": "https://localhost:8080/",
          "height": 102
        }
      },
      "source": [
        "for j in range(num_rows):\n",
        "  print('Column:', j, 'Minimum is' , min(X[:,j]), 'Maximum is',  max(X[:,j]))"
      ],
      "execution_count": 0,
      "outputs": [
        {
          "output_type": "stream",
          "text": [
            "Column: 0 Minimum is 4 Maximum is 12\n",
            "Column: 1 Minimum is 2 Maximum is 16\n",
            "Column: 2 Minimum is 2 Maximum is 11\n",
            "Column: 3 Minimum is 3 Maximum is 19\n",
            "Column: 4 Minimum is 1 Maximum is 17\n"
          ],
          "name": "stdout"
        }
      ]
    },
    {
      "cell_type": "code",
      "metadata": {
        "id": "px39jPVG4e5Q",
        "colab_type": "code",
        "outputId": "d0267070-8404-42e7-e5bd-f72a167e918d",
        "colab": {
          "base_uri": "https://localhost:8080/",
          "height": 357
        }
      },
      "source": [
        "# Question 7.\n",
        "# Create an array of size 100 and compute the mean, median, standard deviation.\n",
        "\n",
        "X=np.random.random((5, 20))\n",
        "X\n",
        "\n"
      ],
      "execution_count": 0,
      "outputs": [
        {
          "output_type": "execute_result",
          "data": {
            "text/plain": [
              "array([[0.34164509, 0.57363372, 0.90557644, 0.08869888, 0.5925604 ,\n",
              "        0.22827699, 0.12187598, 0.38067789, 0.90434652, 0.60647254,\n",
              "        0.47664524, 0.48391339, 0.60546204, 0.29538267, 0.58089546,\n",
              "        0.03939159, 0.83385985, 0.50110292, 0.38303905, 0.38912378],\n",
              "       [0.19851988, 0.10184272, 0.59942296, 0.05847788, 0.28593296,\n",
              "        0.07896335, 0.2321355 , 0.47497826, 0.77009817, 0.03777493,\n",
              "        0.1217578 , 0.52377947, 0.06827713, 0.06881563, 0.10684162,\n",
              "        0.3497365 , 0.43400572, 0.38324321, 0.2436673 , 0.22435595],\n",
              "       [0.74505038, 0.96054254, 0.35711092, 0.70412132, 0.01556355,\n",
              "        0.21958408, 0.1736091 , 0.94266304, 0.64197463, 0.70445128,\n",
              "        0.42735078, 0.80527798, 0.8885284 , 0.50469123, 0.27666026,\n",
              "        0.8064643 , 0.69951627, 0.15167923, 0.07768628, 0.76879982],\n",
              "       [0.1115209 , 0.820311  , 0.82889923, 0.29032384, 0.48803464,\n",
              "        0.32360172, 0.86991549, 0.43079208, 0.11342845, 0.92170757,\n",
              "        0.28087787, 0.43807104, 0.21640188, 0.42535848, 0.09345495,\n",
              "        0.33437041, 0.19206403, 0.80089083, 0.91081943, 0.16243149],\n",
              "       [0.82594058, 0.69400303, 0.68527396, 0.91693298, 0.14277839,\n",
              "        0.97602327, 0.46121311, 0.73654227, 0.52997871, 0.34507602,\n",
              "        0.5157177 , 0.20851142, 0.80973786, 0.70860021, 0.35914212,\n",
              "        0.42397539, 0.62341568, 0.7105547 , 0.59575816, 0.04369521]])"
            ]
          },
          "metadata": {
            "tags": []
          },
          "execution_count": 358
        }
      ]
    },
    {
      "cell_type": "code",
      "metadata": {
        "id": "8Afu1J3W40JN",
        "colab_type": "code",
        "outputId": "362155b6-18e9-4a30-d5c1-713bfb1bee82",
        "colab": {
          "base_uri": "https://localhost:8080/",
          "height": 34
        }
      },
      "source": [
        "X.size"
      ],
      "execution_count": 0,
      "outputs": [
        {
          "output_type": "execute_result",
          "data": {
            "text/plain": [
              "100"
            ]
          },
          "metadata": {
            "tags": []
          },
          "execution_count": 359
        }
      ]
    },
    {
      "cell_type": "code",
      "metadata": {
        "id": "GHpayEUO-hVk",
        "colab_type": "code",
        "outputId": "f842cd75-b960-48a1-9ad6-01423ebf1877",
        "colab": {
          "base_uri": "https://localhost:8080/",
          "height": 34
        }
      },
      "source": [
        "# Mean.\n",
        "np.mean(X)"
      ],
      "execution_count": 0,
      "outputs": [
        {
          "output_type": "execute_result",
          "data": {
            "text/plain": [
              "0.45932678907376256"
            ]
          },
          "metadata": {
            "tags": []
          },
          "execution_count": 360
        }
      ]
    },
    {
      "cell_type": "code",
      "metadata": {
        "id": "17w3z312-mGS",
        "colab_type": "code",
        "outputId": "0bd7af4f-928b-423d-9017-5cc5b7c3fbac",
        "colab": {
          "base_uri": "https://localhost:8080/",
          "height": 34
        }
      },
      "source": [
        "# Median.\n",
        "np.median(X)"
      ],
      "execution_count": 0,
      "outputs": [
        {
          "output_type": "execute_result",
          "data": {
            "text/plain": [
              "0.43239889957364475"
            ]
          },
          "metadata": {
            "tags": []
          },
          "execution_count": 361
        }
      ]
    },
    {
      "cell_type": "code",
      "metadata": {
        "id": "TA2jTgST-qIS",
        "colab_type": "code",
        "outputId": "ab538d1d-b059-4bea-ae77-f2bb92860ed7",
        "colab": {
          "base_uri": "https://localhost:8080/",
          "height": 34
        }
      },
      "source": [
        "# Standard Deviation.\n",
        "np.std(X)"
      ],
      "execution_count": 0,
      "outputs": [
        {
          "output_type": "execute_result",
          "data": {
            "text/plain": [
              "0.27837853859050654"
            ]
          },
          "metadata": {
            "tags": []
          },
          "execution_count": 362
        }
      ]
    },
    {
      "cell_type": "code",
      "metadata": {
        "id": "vsK7OITZRReG",
        "colab_type": "code",
        "outputId": "02c73c51-51d6-4a45-b775-eb5c7c31e7aa",
        "colab": {
          "base_uri": "https://localhost:8080/",
          "height": 187
        }
      },
      "source": [
        "# Question 8.\n",
        "# Normalize a 5x5 random matrix.\n",
        "\n",
        "X=np.random.random((5, 5))\n",
        "X= 2020*X\n",
        "X\n",
        "\n"
      ],
      "execution_count": 0,
      "outputs": [
        {
          "output_type": "execute_result",
          "data": {
            "text/plain": [
              "array([[ 477.47706636,  523.37013386, 1379.17479395,  577.32700709,\n",
              "         674.44941183],\n",
              "       [ 947.26815513,  347.65852857, 2015.53231976, 1997.48357909,\n",
              "        1560.28061772],\n",
              "       [1814.71567094, 1547.52820539, 1109.63355656,  843.51611772,\n",
              "        1108.53407285],\n",
              "       [1338.64883648,  456.86391932, 1273.53593466,   28.36611213,\n",
              "        1692.16490487],\n",
              "       [  81.63239684, 1404.2795241 , 1908.68831691, 2002.06808433,\n",
              "        1123.62151916]])"
            ]
          },
          "metadata": {
            "tags": []
          },
          "execution_count": 363
        }
      ]
    },
    {
      "cell_type": "code",
      "metadata": {
        "id": "ebZbtX4SSaNL",
        "colab_type": "code",
        "outputId": "3f8e02ea-cf8c-43fb-8b20-3c2dc8045eeb",
        "colab": {
          "base_uri": "https://localhost:8080/",
          "height": 102
        }
      },
      "source": [
        "# This is ONE way to normalise the matrix.\n",
        "# Subtract the mean.\n",
        "X = X - X.mean()\n",
        "# Divide by the maximum.\n",
        "X = X / X.max()\n",
        "# Numbers generated are between -1 and 1.\n",
        "X"
      ],
      "execution_count": 0,
      "outputs": [
        {
          "output_type": "execute_result",
          "data": {
            "text/plain": [
              "array([[-0.73560225, -0.6838147 ,  0.28190905, -0.62292764, -0.51333088],\n",
              "       [-0.20547144, -0.88209461,  1.        ,  0.97963309,  0.48627601],\n",
              "       [ 0.77339057,  0.47188569, -0.02225192, -0.32254934, -0.02349262],\n",
              "       [ 0.23617796, -0.75886294,  0.16270199, -1.24239678,  0.63509945],\n",
              "       [-1.182289  ,  0.31023822,  0.87943301,  0.98480643, -0.00646735]])"
            ]
          },
          "metadata": {
            "tags": []
          },
          "execution_count": 364
        }
      ]
    },
    {
      "cell_type": "code",
      "metadata": {
        "id": "4oas5xg9TTMG",
        "colab_type": "code",
        "colab": {}
      },
      "source": [
        "# Question 11.\n",
        "#\n",
        "# Consider an array of dimension (4,4,3), how to mulitply it by an array with dimensions (4,4)?\n",
        "#\n",
        "# The matrix equation y=Ax can be written using indices:-\n",
        "# y(k)= Sum over j: A(k,j)*x(j)\n",
        "#\n",
        "# My thoughts:- A generalisation to higher dimensions could be;\n",
        "#\n",
        "# y(k) = Sum over i and j: A(i,j,k)*x(i,j)\n",
        "#\n",
        "# In the example i and j would range from 1 to 4. (0 to 3 in Python!),\n",
        "# and k would range from 1 to 3 (0 to 2).\n",
        "# So A would be a 3 by 4 by 4 matrix,  x a 4 by 4 matrix , and y a 3 by 1 matrix.\n",
        "#\n"
      ],
      "execution_count": 0,
      "outputs": []
    },
    {
      "cell_type": "code",
      "metadata": {
        "id": "xVSOSGSAdSnH",
        "colab_type": "code",
        "outputId": "27222b7f-9113-4def-b52c-a56992489f85",
        "colab": {
          "base_uri": "https://localhost:8080/",
          "height": 85
        }
      },
      "source": [
        "x = np.random.random((4, 4))\n",
        "x"
      ],
      "execution_count": 0,
      "outputs": [
        {
          "output_type": "execute_result",
          "data": {
            "text/plain": [
              "array([[0.95355241, 0.14531817, 0.91596153, 0.23498405],\n",
              "       [0.98632485, 0.47690055, 0.60919026, 0.39637643],\n",
              "       [0.35903103, 0.68500578, 0.50319243, 0.02301881],\n",
              "       [0.36599612, 0.23057265, 0.57390192, 0.85000504]])"
            ]
          },
          "metadata": {
            "tags": []
          },
          "execution_count": 365
        }
      ]
    },
    {
      "cell_type": "code",
      "metadata": {
        "id": "Qr53qlU0diH8",
        "colab_type": "code",
        "outputId": "09cc3e07-0128-4358-a455-4a084541c4b5",
        "colab": {
          "base_uri": "https://localhost:8080/",
          "height": 340
        }
      },
      "source": [
        "A = np.random.random((4, 4, 3))\n",
        "A"
      ],
      "execution_count": 0,
      "outputs": [
        {
          "output_type": "execute_result",
          "data": {
            "text/plain": [
              "array([[[0.33068356, 0.5530587 , 0.53392649],\n",
              "        [0.24652459, 0.94105179, 0.2912648 ],\n",
              "        [0.65618084, 0.20367151, 0.65430888],\n",
              "        [0.67318769, 0.61125159, 0.57695789]],\n",
              "\n",
              "       [[0.2815373 , 0.66016849, 0.1136774 ],\n",
              "        [0.46200074, 0.64103192, 0.46470109],\n",
              "        [0.88625247, 0.9681359 , 0.2615794 ],\n",
              "        [0.39188137, 0.90658516, 0.39958232]],\n",
              "\n",
              "       [[0.55364068, 0.83948415, 0.23318898],\n",
              "        [0.68372854, 0.02327788, 0.20971887],\n",
              "        [0.84878985, 0.7255959 , 0.73893669],\n",
              "        [0.49290524, 0.48305231, 0.79528076]],\n",
              "\n",
              "       [[0.28678742, 0.40745867, 0.05959372],\n",
              "        [0.13184407, 0.08525674, 0.5257071 ],\n",
              "        [0.10312467, 0.42639493, 0.22682911],\n",
              "        [0.01729479, 0.77345399, 0.7429396 ]]])"
            ]
          },
          "metadata": {
            "tags": []
          },
          "execution_count": 366
        }
      ]
    },
    {
      "cell_type": "code",
      "metadata": {
        "id": "qEo0QbOsdqWU",
        "colab_type": "code",
        "outputId": "537fbb9f-3032-436f-c6b8-e7049b98344a",
        "colab": {
          "base_uri": "https://localhost:8080/",
          "height": 34
        }
      },
      "source": [
        "\n",
        "y=np.array([0.0,0.0,0.0])\n",
        "\n",
        "for k in range(3):\n",
        "  s = 0.0\n",
        "  for i in range(4):\n",
        "    for j in range(4):\n",
        "      s = s + A[i,j,k]*x[i,j]\n",
        "  y[k]=s\n",
        "\n",
        "y"
      ],
      "execution_count": 0,
      "outputs": [
        {
          "output_type": "execute_result",
          "data": {
            "text/plain": [
              "array([3.61844768, 4.66480386, 3.4600456 ])"
            ]
          },
          "metadata": {
            "tags": []
          },
          "execution_count": 367
        }
      ]
    }
  ]
}