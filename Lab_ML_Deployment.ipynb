{
  "nbformat": 4,
  "nbformat_minor": 0,
  "metadata": {
    "colab": {
      "name": "Lab_ML_Deployment.ipynb",
      "provenance": [],
      "authorship_tag": "ABX9TyPX9fs/3v5HQLYUtWqbq28R",
      "include_colab_link": true
    },
    "kernelspec": {
      "name": "python3",
      "display_name": "Python 3"
    }
  },
  "cells": [
    {
      "cell_type": "markdown",
      "metadata": {
        "id": "view-in-github",
        "colab_type": "text"
      },
      "source": [
        "<a href=\"https://colab.research.google.com/github/DavidB363/file-store/blob/master/Lab_ML_Deployment.ipynb\" target=\"_parent\"><img src=\"https://colab.research.google.com/assets/colab-badge.svg\" alt=\"Open In Colab\"/></a>"
      ]
    },
    {
      "cell_type": "code",
      "metadata": {
        "id": "SPIcTGSdiitK",
        "colab_type": "code",
        "colab": {
          "base_uri": "https://localhost:8080/",
          "height": 264
        },
        "outputId": "0599229a-2597-4d84-ba23-61e2bb3b1ab5"
      },
      "source": [
        "from flask import Flask, request, render_template\n",
        "import os\n",
        "import pickle\n",
        "\n",
        "print(os.getcwd())\n",
        "path = os.getcwd()\n",
        "\n",
        "with open('Models/logistic_model.pkl', 'rb') as f:\n",
        "    logistic = pickle.load(f)\n",
        "\n",
        "with open('Models/RF_model.pkl', 'rb') as f:\n",
        "    randomforest = pickle.load(f)\n",
        "\n",
        "with open('Models/svm_clf_model.pkl', 'rb') as f:\n",
        "    svm_model = pickle.load(f)\n",
        "\n",
        "\n",
        "def get_predictions(price, Tax, Driver_Age, Licence_Length_Years, req_model):\n",
        "    mylist = [Driver_Age, Tax, price, Licence_Length_Years]\n",
        "    mylist = [float(i) for i in mylist]\n",
        "    vals = [mylist]\n",
        "\n",
        "    if req_model == 'Logistic':\n",
        "        #print(req_model)\n",
        "        return logistic.predict(vals)[0]\n",
        "\n",
        "    elif req_model == 'RandomForest':\n",
        "        #print(req_model)\n",
        "        return randomforest.predict(vals)[0]\n",
        "\n",
        "    elif req_model == 'SVM':\n",
        "        #print(req_model)\n",
        "        return svm_model.predict(vals)[0]\n",
        "    else:\n",
        "        return \"Cannot Predict\"\n",
        "\n",
        "\n",
        "app = Flask(__name__)\n",
        "\n",
        "@app.route('/')\n",
        "def my_form():\n",
        "    return render_template('home.html')\n",
        "\n",
        "@app.route('/', methods=['POST', 'GET'])\n",
        "def my_form_post():\n",
        "    price = request.form['price']\n",
        "    Tax = request.form['Tax']\n",
        "    Driver_Age = request.form['Driver_Age']\n",
        "    Licence_Length_Years = request.form['Licence_Length_Years']\n",
        "    req_model = request.form['req_model']\n",
        "\n",
        "    target = get_predictions(price, Tax, Driver_Age, Licence_Length_Years, req_model)\n",
        "\n",
        "    if target==1:\n",
        "        sale_making = 'Customer is likely to buy the insurance'\n",
        "    else:\n",
        "        sale_making = 'Customer is unlikely to buy the insurance'\n",
        "\n",
        "    return render_template('home.html', target = target, sale_making = sale_making)\n",
        "\n",
        "\n",
        "if __name__ == \"__main__\":\n",
        "    app.run(debug=True)\n",
        "\n"
      ],
      "execution_count": 2,
      "outputs": [
        {
          "output_type": "stream",
          "text": [
            "/content\n"
          ],
          "name": "stdout"
        },
        {
          "output_type": "error",
          "ename": "FileNotFoundError",
          "evalue": "ignored",
          "traceback": [
            "\u001b[0;31m---------------------------------------------------------------------------\u001b[0m",
            "\u001b[0;31mFileNotFoundError\u001b[0m                         Traceback (most recent call last)",
            "\u001b[0;32m<ipython-input-2-0f99f865e46d>\u001b[0m in \u001b[0;36m<module>\u001b[0;34m()\u001b[0m\n\u001b[1;32m      6\u001b[0m \u001b[0mpath\u001b[0m \u001b[0;34m=\u001b[0m \u001b[0mos\u001b[0m\u001b[0;34m.\u001b[0m\u001b[0mgetcwd\u001b[0m\u001b[0;34m(\u001b[0m\u001b[0;34m)\u001b[0m\u001b[0;34m\u001b[0m\u001b[0;34m\u001b[0m\u001b[0m\n\u001b[1;32m      7\u001b[0m \u001b[0;34m\u001b[0m\u001b[0m\n\u001b[0;32m----> 8\u001b[0;31m \u001b[0;32mwith\u001b[0m \u001b[0mopen\u001b[0m\u001b[0;34m(\u001b[0m\u001b[0;34m'Models/logistic_model.pkl'\u001b[0m\u001b[0;34m,\u001b[0m \u001b[0;34m'rb'\u001b[0m\u001b[0;34m)\u001b[0m \u001b[0;32mas\u001b[0m \u001b[0mf\u001b[0m\u001b[0;34m:\u001b[0m\u001b[0;34m\u001b[0m\u001b[0;34m\u001b[0m\u001b[0m\n\u001b[0m\u001b[1;32m      9\u001b[0m     \u001b[0mlogistic\u001b[0m \u001b[0;34m=\u001b[0m \u001b[0mpickle\u001b[0m\u001b[0;34m.\u001b[0m\u001b[0mload\u001b[0m\u001b[0;34m(\u001b[0m\u001b[0mf\u001b[0m\u001b[0;34m)\u001b[0m\u001b[0;34m\u001b[0m\u001b[0;34m\u001b[0m\u001b[0m\n\u001b[1;32m     10\u001b[0m \u001b[0;34m\u001b[0m\u001b[0m\n",
            "\u001b[0;31mFileNotFoundError\u001b[0m: [Errno 2] No such file or directory: 'Models/logistic_model.pkl'"
          ]
        }
      ]
    }
  ]
}