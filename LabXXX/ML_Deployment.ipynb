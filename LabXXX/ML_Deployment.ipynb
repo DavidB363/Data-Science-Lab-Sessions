{
  "nbformat": 4,
  "nbformat_minor": 0,
  "metadata": {
    "colab": {
      "name": "ML_Deployment.ipynb",
      "provenance": [],
      "authorship_tag": "ABX9TyPRmk8QiGyFwZFUnsLUs6Yc",
      "include_colab_link": true
    },
    "kernelspec": {
      "name": "python3",
      "display_name": "Python 3"
    }
  },
  "cells": [
    {
      "cell_type": "markdown",
      "metadata": {
        "id": "view-in-github",
        "colab_type": "text"
      },
      "source": [
        "<a href=\"https://colab.research.google.com/github/DavidB363/file-store/blob/master/LabXXX/ML_Deployment.ipynb\" target=\"_parent\"><img src=\"https://colab.research.google.com/assets/colab-badge.svg\" alt=\"Open In Colab\"/></a>"
      ]
    },
    {
      "cell_type": "code",
      "metadata": {
        "id": "MAm6AnenJlCA",
        "colab_type": "code",
        "colab": {
          "base_uri": "https://localhost:8080/",
          "height": 35
        },
        "outputId": "d5a2309e-ccfd-43e0-e567-f7c1d6c9fcf8"
      },
      "source": [
        "! git https://github.com/Ajithvajrala23/CE888_Lab_ML_Deployment.git\n"
      ],
      "execution_count": 1,
      "outputs": [
        {
          "output_type": "stream",
          "text": [
            "git: 'https://github.com/Ajithvajrala23/CE888_Lab_ML_Deployment.git' is not a git command. See 'git --help'.\n"
          ],
          "name": "stdout"
        }
      ]
    },
    {
      "cell_type": "code",
      "metadata": {
        "id": "6Fs8tTjbNgDS",
        "colab_type": "code",
        "colab": {}
      },
      "source": [
        ""
      ],
      "execution_count": 0,
      "outputs": []
    }
  ]
}