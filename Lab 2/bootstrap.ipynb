{
  "nbformat": 4,
  "nbformat_minor": 0,
  "metadata": {
    "kernelspec": {
      "display_name": "Python 3",
      "language": "python",
      "name": "python3"
    },
    "language_info": {
      "codemirror_mode": {
        "name": "ipython",
        "version": 2
      },
      "file_extension": ".py",
      "mimetype": "text/x-python",
      "name": "python",
      "nbconvert_exporter": "python",
      "pygments_lexer": "ipython2",
      "version": "2.7.6"
    },
    "pycharm": {
      "stem_cell": {
        "cell_type": "raw",
        "source": [],
        "metadata": {
          "collapsed": false
        }
      }
    },
    "colab": {
      "name": "bootstrap.ipynb",
      "provenance": [],
      "include_colab_link": true
    }
  },
  "cells": [
    {
      "cell_type": "markdown",
      "metadata": {
        "id": "view-in-github",
        "colab_type": "text"
      },
      "source": [
        "<a href=\"https://colab.research.google.com/github/DavidB363/file-store/blob/master/Lab%202/bootstrap.ipynb\" target=\"_parent\"><img src=\"https://colab.research.google.com/assets/colab-badge.svg\" alt=\"Open In Colab\"/></a>"
      ]
    },
    {
      "cell_type": "markdown",
      "metadata": {
        "id": "nCi_99yMYIb1",
        "colab_type": "text"
      },
      "source": [
        "In this notebook you'll create your own bootstrap function following the bootstrap algorithm (check the lecture notes!)"
      ]
    },
    {
      "cell_type": "code",
      "metadata": {
        "pycharm": {
          "name": "#%%# Imports\n"
        },
        "id": "LY5zujI2YC37",
        "colab_type": "code",
        "colab": {}
      },
      "source": [
        "import matplotlib\n",
        "import pandas as pd\n",
        "import seaborn as sns\n",
        "import numpy as np\n",
        "\n"
      ],
      "execution_count": 0,
      "outputs": []
    },
    {
      "cell_type": "code",
      "metadata": {
        "id": "Eqkwj4SMY38t",
        "colab_type": "code",
        "colab": {}
      },
      "source": [
        "# Load the data\n",
        "df = pd.read_csv('https://raw.githubusercontent.com/albanda/CE888/master/lab2%20-%20bootstrap/customers.csv')\n",
        "data = df.values.T[1]\n",
        "data_size = data.size\n",
        "# type(data)"
      ],
      "execution_count": 0,
      "outputs": []
    },
    {
      "cell_type": "code",
      "metadata": {
        "id": "c8g_fIUAEkTI",
        "colab_type": "code",
        "colab": {}
      },
      "source": [
        ""
      ],
      "execution_count": 0,
      "outputs": []
    },
    {
      "cell_type": "code",
      "metadata": {
        "pycharm": {
          "name": "#%%\n"
        },
        "id": "Gxvc_bScYC4H",
        "colab_type": "code",
        "colab": {}
      },
      "source": [
        "# Checking the notes from the lecture, create here your own bootstrap function:\n",
        "# 1. Create an array of samples of shape (n_iterations, sample_size)\n",
        "# 2. Calculate and save the mean of the array (this is \"data_mean\" that is returned by the function)\n",
        "# 3. In each iteration:\n",
        "# 3.1 Get the data corresponding to that iteration (new_samples[iteration, :])\n",
        "# 3.2 Calculate the mean of the iteration data and store it\n",
        "# (At this point you should have an array of n_iterations values)\n",
        "# 4. Calculate the lower and upper bounds for a 95% CI (hint: check the percentile function on Numpy)\n",
        "# 5. Return data_mean, and the lower and upper bounds of your interval\n",
        "def boostrap_mean(sample, sample_size, n_iterations):\n",
        "\n",
        "\tsample = np.ndarray(shape=(n_iterations,sample_size))\n",
        "\n",
        "\tfor i in range(n_iterations):\n",
        "\t\tsample[i]=np.random.choice(data, sample_size)\n",
        "\t\t\n",
        "\tmean_array = np.ndarray(shape=n_iterations)\n",
        "\n",
        "\tfor j in range(n_iterations):\n",
        "\t\tmean_array[j]=sample[j].mean()\n",
        "\n",
        "\tdata_mean = mean_array.mean()\n",
        "\n",
        "\tmean_array_sorted = np.sort(mean_array)\n",
        "\n",
        "\tlower = np.percentile(mean_array_sorted, 2.5)\n",
        "\n",
        "\tupper = np.percentile(mean_array_sorted, 97.5)\n",
        "\n",
        "\n",
        "\n",
        "\t# <---INSERT YOUR CODE HERE--->\n",
        "\treturn data_mean, lower, upper\n",
        "\n"
      ],
      "execution_count": 0,
      "outputs": []
    },
    {
      "cell_type": "code",
      "metadata": {
        "id": "M2FKsZ2KWs-y",
        "colab_type": "code",
        "colab": {
          "base_uri": "https://localhost:8080/",
          "height": 68
        },
        "outputId": "bd68dfc7-e49c-4d28-a9d5-d0a83292b637"
      },
      "source": [
        "  boot = boostrap_mean(data, data.shape[0], 6)\n",
        "  print('data_mean =', boot[0])\n",
        "  print('lower =', boot[1])\n",
        "  print('upper =', boot[2])"
      ],
      "execution_count": 316,
      "outputs": [
        {
          "output_type": "stream",
          "text": [
            "data_mean = 9.488095238095239\n",
            "lower = 8.035714285714286\n",
            "upper = 10.714285714285714\n"
          ],
          "name": "stdout"
        }
      ]
    },
    {
      "cell_type": "code",
      "metadata": {
        "id": "xap265xuEOxo",
        "colab_type": "code",
        "colab": {}
      },
      "source": [
        "#data_mean = data.mean()\n",
        "#data_mean"
      ],
      "execution_count": 0,
      "outputs": []
    },
    {
      "cell_type": "code",
      "metadata": {
        "id": "bvcqz5dGEQUH",
        "colab_type": "code",
        "colab": {}
      },
      "source": [
        "#sample_size = 6\n",
        "#n_iterations = 30\n",
        "\n",
        "#samples_matrix = np.ndarray(shape=(n_iterations,sample_size))\n",
        "\n",
        "#data"
      ],
      "execution_count": 0,
      "outputs": []
    },
    {
      "cell_type": "code",
      "metadata": {
        "id": "tUSkWyosEQ-3",
        "colab_type": "code",
        "colab": {}
      },
      "source": [
        "#for i in range(n_iterations):\n",
        "#  for j in range(sample_size):\n",
        "#    rand_num = np.random.randint(data_size, size=1)\n",
        "#    samples_matrix[i][j]=data[rand_num]\n",
        "    \n",
        "#samples_matrix"
      ],
      "execution_count": 0,
      "outputs": []
    },
    {
      "cell_type": "code",
      "metadata": {
        "id": "O9VbzjJbLPQC",
        "colab_type": "code",
        "colab": {}
      },
      "source": [
        "#for i in range(n_iterations):\n",
        "#  samples_matrix[i]=np.random.choice(data, sample_size)\n",
        "    \n",
        "#samples_matrix"
      ],
      "execution_count": 0,
      "outputs": []
    },
    {
      "cell_type": "code",
      "metadata": {
        "id": "dLJswczXGmcO",
        "colab_type": "code",
        "colab": {}
      },
      "source": [
        " #mean_array = np.ndarray(shape=n_iterations)\n",
        " #mean_array"
      ],
      "execution_count": 0,
      "outputs": []
    },
    {
      "cell_type": "code",
      "metadata": {
        "id": "msb6RBqoGm1k",
        "colab_type": "code",
        "colab": {}
      },
      "source": [
        "#for i in range(n_iterations):\n",
        "#  mean_array[i]=samples_matrix[i].mean()\n",
        "    \n",
        "#mean_array\n"
      ],
      "execution_count": 0,
      "outputs": []
    },
    {
      "cell_type": "code",
      "metadata": {
        "id": "NK4Zv4RQGnMc",
        "colab_type": "code",
        "colab": {}
      },
      "source": [
        "#mean_array_sorted = np.sort(mean_array)\n",
        "#mean_array_sorted "
      ],
      "execution_count": 0,
      "outputs": []
    },
    {
      "cell_type": "code",
      "metadata": {
        "id": "EHra_lWLQEdX",
        "colab_type": "code",
        "colab": {}
      },
      "source": [
        "#percentile_lower = np.percentile(mean_array_sorted, 2.5)\n",
        "#percentile_lower"
      ],
      "execution_count": 0,
      "outputs": []
    },
    {
      "cell_type": "code",
      "metadata": {
        "id": "4S6pzPLPQtBh",
        "colab_type": "code",
        "colab": {}
      },
      "source": [
        "#percentile_upper = np.percentile(mean_array_sorted, 97.5)\n",
        "#percentile_upper"
      ],
      "execution_count": 0,
      "outputs": []
    },
    {
      "cell_type": "code",
      "metadata": {
        "pycharm": {
          "name": "#%%\n"
        },
        "id": "AN7sEOcMYC4P",
        "colab_type": "code",
        "colab": {}
      },
      "source": [
        "# Call your bootstrap function and plot the results\n",
        "\n",
        "#boots = []\n",
        "#for i in range(100, 100000, 1000):\n",
        "#    boot = boostrap_mean(data, data.shape[0], i)\n",
        "#    boots.append([i, boot[0], \"mean\"])\n",
        "#    boots.append([i, boot[1], \"lower\"])\n",
        "#    boots.append([i, boot[2], \"upper\"])\n",
        "\n",
        "#df_boot = pd.DataFrame(boots, columns=['Boostrap Iterations', 'Mean', \"Value\"])\n",
        "#sns_plot = sns.lmplot(df_boot.columns[0], df_boot.columns[1], data=df_boot, fit_reg=False, hue=\"Value\")\n",
        "\n",
        "#sns_plot.axes[0, 0].set_ylim(0,)\n",
        "#sns_plot.axes[0, 0].set_xlim(0, 100000)\n",
        "\n",
        "###sns_plot.savefig(\"bootstrap_confidence.png\", bbox_inches='tight')\n",
        "###sns_plot.savefig(\"bootstrap_confidence.pdf\", bbox_inches='tight')\n",
        "\n"
      ],
      "execution_count": 0,
      "outputs": []
    },
    {
      "cell_type": "markdown",
      "metadata": {
        "collapsed": false,
        "id": "MjtP4e2_YC4V",
        "colab_type": "text"
      },
      "source": [
        "\n",
        "Now, modify the bootstrap function so that you can pass your desired confidence interval as a parameter.\n",
        "\n"
      ]
    },
    {
      "cell_type": "code",
      "metadata": {
        "id": "3K9j0FuGYhHs",
        "colab_type": "code",
        "colab": {}
      },
      "source": [
        "def boostrap_mean_ci(sample, sample_size, iterations, ci):\n",
        "\t# <---INSERT YOUR CODE HERE--->\n",
        "\tsample = np.ndarray(shape=(n_iterations,sample_size))\n",
        "\n",
        "\tfor i in range(n_iterations):\n",
        "\t\tsample[i]=np.random.choice(data, sample_size)\n",
        "\t\t\n",
        "\tmean_array = np.ndarray(shape=n_iterations)\n",
        "\n",
        "\tfor j in range(n_iterations):\n",
        "\t\tmean_array[j]=sample[j].mean()\n",
        "\n",
        "\tdata_mean = mean_array.mean()\n",
        "\n",
        "\tmean_array_sorted = np.sort(mean_array)\n",
        "\n",
        "\ta=(100-ci)/2.0\n",
        "\tlower = np.percentile(mean_array_sorted, a)\n",
        "\tb = 100-a\n",
        "\tupper = np.percentile(mean_array_sorted, b)\n",
        "\treturn data_mean, lower, upper"
      ],
      "execution_count": 0,
      "outputs": []
    },
    {
      "cell_type": "code",
      "metadata": {
        "id": "uDnjq08GYl-C",
        "colab_type": "code",
        "colab": {
          "base_uri": "https://localhost:8080/",
          "height": 369
        },
        "outputId": "a3d692b9-3192-432f-e235-8283270c5b24"
      },
      "source": [
        "\n",
        "boots = []\n",
        "for i in range(100, 100000, 1000):\n",
        "    boot = boostrap_mean_ci(data, data.shape[0], i, 80)\n",
        "    boots.append([i, boot[0], \"mean\"])\n",
        "    boots.append([i, boot[1], \"lower\"])\n",
        "    boots.append([i, boot[2], \"upper\"])\n",
        "\n",
        "df_boot = pd.DataFrame(boots, columns=['Boostrap Iterations', 'Mean', \"Value\"])\n",
        "sns_plot = sns.lmplot(df_boot.columns[0], df_boot.columns[1], data=df_boot, fit_reg=False, hue=\"Value\")\n",
        "\n",
        "sns_plot.axes[0, 0].set_ylim(0,)\n",
        "sns_plot.axes[0, 0].set_xlim(0, 100000)\n",
        "\n",
        "sns_plot.savefig(\"bootstrap_confidence_80.png\", bbox_inches='tight')\n",
        "sns_plot.savefig(\"bootstrap_confidence_80.pdf\", bbox_inches='tight')\n"
      ],
      "execution_count": 326,
      "outputs": [
        {
          "output_type": "display_data",
          "data": {
            "image/png": "[encoded data removed]",
            "text/plain": [
              "<Figure size 425.125x360 with 1 Axes>"
            ]
          },
          "metadata": {
            "tags": []
          }
        }
      ]
    },
    {
      "cell_type": "markdown",
      "metadata": {
        "id": "qjNgXW6wdd7r",
        "colab_type": "text"
      },
      "source": [
        "# Vehicles dataset\n",
        "\n",
        "Now let's work on a different dataset. Load the vehicles.csv file and check the Moodle page for instructions on how to proceed\n"
      ]
    },
    {
      "cell_type": "code",
      "metadata": {
        "id": "avWv4ipFdpka",
        "colab_type": "code",
        "colab": {
          "base_uri": "https://localhost:8080/",
          "height": 807
        },
        "outputId": "484c6e15-8007-4e46-8356-6461e85c4ea3"
      },
      "source": [
        "# Load and visualise the vehicles dataset\n",
        "df = pd.read_csv('https://raw.githubusercontent.com/albanda/CE888/master/lab2%20-%20bootstrap/vehicles.csv')\n",
        "data = df.values.T[1]\n",
        "data_size = data.size\n",
        "data_size\n",
        "\n",
        "\n",
        "# <---INSERT YOUR CODE HERE--->\n",
        "# Note: you can add more cells as needed to organise your code and your plots\n",
        "df.hist(column='Current fleet')\n",
        "df.hist(column='New Fleet')\n",
        "ax1 = df.plot.scatter(x='Current fleet',\n",
        "                      y='New Fleet',\n",
        "                      c='DarkBlue')"
      ],
      "execution_count": 329,
      "outputs": [
        {
          "output_type": "display_data",
          "data": {
            "image/png": "[encoded data removed]",
            "text/plain": [
              "<Figure size 432x288 with 1 Axes>"
            ]
          },
          "metadata": {
            "tags": []
          }
        },
        {
          "output_type": "display_data",
          "data": {
            "image/png": "[encoded data removed]",
            "text/plain": [
              "<Figure size 432x288 with 1 Axes>"
            ]
          },
          "metadata": {
            "tags": []
          }
        },
        {
          "output_type": "display_data",
          "data": {
            "image/png": "[encoded data removed]",
            "text/plain": [
              "<Figure size 432x288 with 1 Axes>"
            ]
          },
          "metadata": {
            "tags": []
          }
        }
      ]
    },
    {
      "cell_type": "code",
      "metadata": {
        "id": "BAKyj983dwSM",
        "colab_type": "code",
        "colab": {}
      },
      "source": [
        "# Compare the two fleets.\n",
        "# You can create a permutation test function to do this. Check the lecture notes!\n",
        "\n"
      ],
      "execution_count": 0,
      "outputs": []
    },
    {
      "cell_type": "code",
      "metadata": {
        "id": "if-RY4aTd4CZ",
        "colab_type": "code",
        "colab": {}
      },
      "source": [
        ""
      ],
      "execution_count": 0,
      "outputs": []
    }
  ]
}