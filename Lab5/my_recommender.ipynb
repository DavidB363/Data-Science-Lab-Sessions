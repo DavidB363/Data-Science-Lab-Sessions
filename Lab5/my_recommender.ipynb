{
  "nbformat": 4,
  "nbformat_minor": 0,
  "metadata": {
    "colab": {
      "name": "Copy of  my_recommender.ipynb",
      "provenance": [],
      "include_colab_link": true
    },
    "kernelspec": {
      "name": "python3",
      "display_name": "Python 3"
    }
  },
  "cells": [
    {
      "cell_type": "markdown",
      "metadata": {
        "id": "view-in-github",
        "colab_type": "text"
      },
      "source": [
        "<a href=\"https://colab.research.google.com/github/DavidB363/file-store/blob/master/Lab5/my_recommender.ipynb\" target=\"_parent\"><img src=\"https://colab.research.google.com/assets/colab-badge.svg\" alt=\"Open In Colab\"/></a>"
      ]
    },
    {
      "cell_type": "code",
      "metadata": {
        "id": "36iA0yikBpZg",
        "colab_type": "code",
        "colab": {}
      },
      "source": [
        "# My Recommender System\n",
        "\n",
        "import pandas as pd\n",
        "import numpy as np\n",
        "from IPython.display import Image\n",
        "np.set_printoptions(precision = 3)"
      ],
      "execution_count": 0,
      "outputs": []
    },
    {
      "cell_type": "code",
      "metadata": {
        "id": "Rzo16Ua6I6SE",
        "colab_type": "code",
        "outputId": "3368e453-7286-4304-bca1-7a1b03eef46a",
        "colab": {
          "base_uri": "https://localhost:8080/",
          "height": 274
        }
      },
      "source": [
        "df = pd.read_csv('https://raw.githubusercontent.com/albanda/CE888/master/lab5-recommender/jester-data-1.csv')\n",
        "df=df.drop(df.columns[0],1)\n",
        "print(df)"
      ],
      "execution_count": 0,
      "outputs": [
        {
          "output_type": "stream",
          "text": [
            "       -7.82   8.79  -9.66  -8.16  -7.52  ...  99.22  -5.63  99.23  99.24  99.25\n",
            "0       4.08  -0.29   6.36   4.37  -2.38  ...  -2.14   3.06   0.34  -4.32   1.07\n",
            "1      99.00  99.00  99.00  99.00   9.03  ...  99.00  99.00  99.00  99.00  99.00\n",
            "2      99.00   8.35  99.00  99.00   1.80  ...  99.00  99.00  99.00  99.00  99.00\n",
            "3       8.50   4.61  -4.17  -5.39   1.36  ...   1.55   3.11   6.55   1.80   1.60\n",
            "4      -6.17  -3.54   0.44  -8.50  -7.09  ...  -3.35   0.05  -9.08  -5.05  -3.45\n",
            "...      ...    ...    ...    ...    ...  ...    ...    ...    ...    ...    ...\n",
            "24977   0.44   7.43   9.08   2.33   3.20  ...   9.03   6.55   8.69   8.79   7.43\n",
            "24978   9.13  -8.16   8.59   9.08   0.87  ...  -8.20  -7.23  -8.59   9.13   8.45\n",
            "24979  99.00  99.00  99.00  99.00  -7.77  ...  99.00  99.00  99.00  99.00  99.00\n",
            "24980  99.00  99.00  99.00  99.00  -9.71  ...  99.00  99.00  99.00  99.00  99.00\n",
            "24981   2.43   2.67  -3.98   4.27  -2.28  ...  99.00  99.00  99.00  99.00  99.00\n",
            "\n",
            "[24982 rows x 100 columns]\n"
          ],
          "name": "stdout"
        }
      ]
    },
    {
      "cell_type": "code",
      "metadata": {
        "id": "vKeGq1WfXoDb",
        "colab_type": "code",
        "outputId": "fb90d2a8-c4a3-457a-b8af-ddf021f473bc",
        "colab": {
          "base_uri": "https://localhost:8080/",
          "height": 35
        }
      },
      "source": [
        "arr = df.values\n",
        "print(arr.shape)\n",
        "#print(arr_full)"
      ],
      "execution_count": 0,
      "outputs": [
        {
          "output_type": "stream",
          "text": [
            "(24982, 100)\n"
          ],
          "name": "stdout"
        }
      ]
    },
    {
      "cell_type": "code",
      "metadata": {
        "id": "6KdMBlxWXpj4",
        "colab_type": "code",
        "outputId": "30db96d7-38c7-4923-df67-f3dae02c571a",
        "colab": {
          "base_uri": "https://localhost:8080/",
          "height": 35
        }
      },
      "source": [
        "rated = np.where(arr!=99)\n",
        "print(len(rated[0]), rated[1].shape)"
      ],
      "execution_count": 0,
      "outputs": [
        {
          "output_type": "stream",
          "text": [
            "1810381 (1810381,)\n"
          ],
          "name": "stdout"
        }
      ]
    },
    {
      "cell_type": "code",
      "metadata": {
        "id": "SsUlkl2nXwdQ",
        "colab_type": "code",
        "colab": {}
      },
      "source": [
        "def replace(orig, percentage=0.1):\n",
        "  \"\"\"\n",
        "  Replaces 'percentage'% of the original values in 'orig' with 99's\n",
        "  :param orig: original data array\n",
        "  :param percentage: percentage of values to replace (0<percentage<1)\n",
        "  \"\"\"\n",
        "  new_data = orig.copy()\n",
        "  rated = np.where(arr!=99)\n",
        "  n_rated = len(rated[0])\n",
        "  idx = np.random.choice(n_rated, size=int(percentage*n_rated), replace=False)\n",
        "  new_data[rated[0][idx], rated[1][idx]] = 99\n",
        "  return new_data, (rated[0][idx], rated[1][idx])"
      ],
      "execution_count": 0,
      "outputs": []
    },
    {
      "cell_type": "code",
      "metadata": {
        "id": "f2uo9H-qX2VI",
        "colab_type": "code",
        "outputId": "eb5e12b5-a256-4259-fa54-ee71abd9b271",
        "colab": {
          "base_uri": "https://localhost:8080/",
          "height": 35
        }
      },
      "source": [
        "new_arr, idx = replace(arr, 0.1)\n",
        "print(idx)"
      ],
      "execution_count": 0,
      "outputs": [
        {
          "output_type": "stream",
          "text": [
            "(array([ 5720, 17047, 16009, ...,  8297, 23141,  1827]), array([10, 66, 36, ..., 30, 73,  6]))\n"
          ],
          "name": "stdout"
        }
      ]
    },
    {
      "cell_type": "code",
      "metadata": {
        "id": "dgLuUQbWX3uQ",
        "colab_type": "code",
        "outputId": "93d96725-eedc-4962-8c70-18ec8677a942",
        "colab": {
          "base_uri": "https://localhost:8080/",
          "height": 35
        }
      },
      "source": [
        "arr[idx[0][0], idx[1][0]]"
      ],
      "execution_count": 0,
      "outputs": [
        {
          "output_type": "execute_result",
          "data": {
            "text/plain": [
              "-4.51"
            ]
          },
          "metadata": {
            "tags": []
          },
          "execution_count": 33
        }
      ]
    },
    {
      "cell_type": "code",
      "metadata": {
        "id": "XRLv3dQ4X4Mv",
        "colab_type": "code",
        "outputId": "f361f4ac-70ad-49b3-b49c-71604d3c15f7",
        "colab": {
          "base_uri": "https://localhost:8080/",
          "height": 35
        }
      },
      "source": [
        "new_arr[idx[0][0], idx[1][0]]"
      ],
      "execution_count": 0,
      "outputs": [
        {
          "output_type": "execute_result",
          "data": {
            "text/plain": [
              "99.0"
            ]
          },
          "metadata": {
            "tags": []
          },
          "execution_count": 34
        }
      ]
    },
    {
      "cell_type": "code",
      "metadata": {
        "id": "FNRjRvX_X4iw",
        "colab_type": "code",
        "colab": {}
      },
      "source": [
        "n_latent_factors = 2\n",
        "\n",
        "user_ratings = new_arr\n",
        "# Initialise as random values\n",
        "latent_user_preferences = np.random.random((user_ratings.shape[0], n_latent_factors))\n",
        "latent_item_features = np.random.random((user_ratings.shape[1], n_latent_factors))"
      ],
      "execution_count": 0,
      "outputs": []
    },
    {
      "cell_type": "code",
      "metadata": {
        "id": "f6zQtM6WjwM6",
        "colab_type": "code",
        "outputId": "973fc6ae-bfb7-40be-94c3-6d81ba7871d9",
        "colab": {
          "base_uri": "https://localhost:8080/",
          "height": 1000
        }
      },
      "source": [
        "latent_item_features"
      ],
      "execution_count": 0,
      "outputs": [
        {
          "output_type": "execute_result",
          "data": {
            "text/plain": [
              "array([[0.571, 0.112],\n",
              "       [0.746, 0.709],\n",
              "       [0.715, 0.065],\n",
              "       [0.834, 0.504],\n",
              "       [0.488, 0.13 ],\n",
              "       [0.606, 0.853],\n",
              "       [0.594, 0.727],\n",
              "       [0.972, 0.778],\n",
              "       [0.231, 0.562],\n",
              "       [0.006, 0.345],\n",
              "       [0.811, 0.008],\n",
              "       [0.891, 0.62 ],\n",
              "       [0.093, 0.694],\n",
              "       [0.519, 0.192],\n",
              "       [0.113, 0.433],\n",
              "       [0.979, 0.321],\n",
              "       [0.279, 0.508],\n",
              "       [0.472, 0.866],\n",
              "       [0.178, 0.788],\n",
              "       [0.122, 0.961],\n",
              "       [0.892, 0.384],\n",
              "       [0.584, 0.04 ],\n",
              "       [0.279, 0.191],\n",
              "       [0.936, 0.364],\n",
              "       [0.723, 0.789],\n",
              "       [0.129, 0.959],\n",
              "       [0.903, 0.971],\n",
              "       [0.28 , 0.844],\n",
              "       [0.007, 0.39 ],\n",
              "       [0.284, 0.836],\n",
              "       [0.941, 0.23 ],\n",
              "       [0.511, 0.764],\n",
              "       [0.914, 0.729],\n",
              "       [0.703, 0.337],\n",
              "       [0.648, 0.567],\n",
              "       [0.529, 0.295],\n",
              "       [0.689, 0.432],\n",
              "       [0.399, 0.313],\n",
              "       [0.083, 0.399],\n",
              "       [0.209, 0.142],\n",
              "       [0.756, 0.633],\n",
              "       [0.898, 0.4  ],\n",
              "       [0.082, 0.454],\n",
              "       [0.192, 0.109],\n",
              "       [0.824, 0.612],\n",
              "       [0.711, 0.038],\n",
              "       [0.713, 0.733],\n",
              "       [0.79 , 0.262],\n",
              "       [0.779, 0.439],\n",
              "       [0.953, 0.852],\n",
              "       [0.987, 0.204],\n",
              "       [0.636, 0.1  ],\n",
              "       [0.453, 0.122],\n",
              "       [0.044, 0.197],\n",
              "       [0.649, 0.412],\n",
              "       [0.28 , 0.324],\n",
              "       [0.726, 0.365],\n",
              "       [0.131, 0.764],\n",
              "       [0.768, 0.357],\n",
              "       [0.813, 0.977],\n",
              "       [0.268, 0.756],\n",
              "       [0.105, 0.35 ],\n",
              "       [0.461, 0.18 ],\n",
              "       [0.183, 0.685],\n",
              "       [0.135, 0.984],\n",
              "       [0.363, 0.628],\n",
              "       [0.801, 0.166],\n",
              "       [0.783, 0.413],\n",
              "       [0.045, 0.272],\n",
              "       [0.949, 0.446],\n",
              "       [0.056, 0.102],\n",
              "       [0.643, 0.351],\n",
              "       [0.703, 0.611],\n",
              "       [0.481, 0.367],\n",
              "       [0.385, 0.709],\n",
              "       [0.217, 0.066],\n",
              "       [0.139, 0.019],\n",
              "       [0.707, 0.824],\n",
              "       [0.593, 0.433],\n",
              "       [0.841, 0.824],\n",
              "       [0.131, 0.317],\n",
              "       [0.283, 0.73 ],\n",
              "       [0.512, 0.624],\n",
              "       [0.185, 0.286],\n",
              "       [0.642, 0.633],\n",
              "       [0.013, 0.195],\n",
              "       [0.527, 0.427],\n",
              "       [0.472, 0.177],\n",
              "       [0.008, 0.439],\n",
              "       [0.472, 0.422],\n",
              "       [0.786, 0.703],\n",
              "       [0.761, 0.522],\n",
              "       [0.128, 0.139],\n",
              "       [0.734, 0.46 ],\n",
              "       [0.338, 0.122],\n",
              "       [0.3  , 0.678],\n",
              "       [0.431, 0.892],\n",
              "       [0.849, 0.815],\n",
              "       [0.712, 0.235],\n",
              "       [0.273, 0.521]])"
            ]
          },
          "metadata": {
            "tags": []
          },
          "execution_count": 36
        }
      ]
    },
    {
      "cell_type": "code",
      "metadata": {
        "id": "pRWw6Dwrj-IW",
        "colab_type": "code",
        "outputId": "34611652-f184-4a9a-e66b-1218de1be94a",
        "colab": {
          "base_uri": "https://localhost:8080/",
          "height": 146
        }
      },
      "source": [
        "latent_user_preferences"
      ],
      "execution_count": 0,
      "outputs": [
        {
          "output_type": "execute_result",
          "data": {
            "text/plain": [
              "array([[0.194, 0.471],\n",
              "       [0.789, 0.915],\n",
              "       [0.66 , 0.666],\n",
              "       ...,\n",
              "       [0.063, 0.499],\n",
              "       [0.687, 0.067],\n",
              "       [0.676, 0.076]])"
            ]
          },
          "metadata": {
            "tags": []
          },
          "execution_count": 37
        }
      ]
    },
    {
      "cell_type": "code",
      "metadata": {
        "id": "PV_YjnQJj4G1",
        "colab_type": "code",
        "colab": {}
      },
      "source": [
        "def predict_rating(user_id, item_id):\n",
        "    \"\"\" Predict a rating given a user_id and an item_id.\n",
        "    \"\"\"\n",
        "    user_preference = latent_user_preferences[user_id]\n",
        "    item_preference = latent_item_features[item_id]\n",
        "    return user_preference.dot(item_preference)\n",
        "\n",
        "\n",
        "def train(user_id, item_id, rating, alpha=0.0001):\n",
        "#def train(user_id, item_id, rating, alpha=0.01):\n",
        "    \n",
        "    #print item_id\n",
        "    prediction_rating = predict_rating(user_id, item_id)\n",
        "    err =  prediction_rating - rating\n",
        "    #print err\n",
        "    user_pref_values = latent_user_preferences[user_id][:]\n",
        "    latent_user_preferences[user_id] -= alpha * err * latent_item_features[item_id]\n",
        "    latent_item_features[item_id] -= alpha * err * user_pref_values\n",
        "    return err\n",
        "    \n",
        "\n",
        "#def sgd(iterations=300000):\n",
        "def sgd(iterations=10):\n",
        "    \"\"\" Iterate over all users and all items and train for \n",
        "        a certain number of iterations\n",
        "    \"\"\"\n",
        "    for iteration in range(iterations):\n",
        "        error = []\n",
        "        for user_id in range(latent_user_preferences.shape[0]):\n",
        "            for item_id in range(latent_item_features.shape[0]):\n",
        "                rating = user_ratings[user_id][item_id]\n",
        "                if (rating!=99):\n",
        "                    err = train(user_id, item_id, rating)\n",
        "                    error.append(err)\n",
        "        mse = (np.array(error) ** 2).mean()   \n",
        "        if (iteration % 1) == 0:\n",
        "            print(mse)"
      ],
      "execution_count": 0,
      "outputs": []
    },
    {
      "cell_type": "code",
      "metadata": {
        "id": "bCYv7aFAkST3",
        "colab_type": "code",
        "outputId": "3d2767ca-846f-44cb-bcfb-8dd2206f50ec",
        "colab": {
          "base_uri": "https://localhost:8080/",
          "height": 201
        }
      },
      "source": [
        "sgd(10)  # Note how the MSE decreases with the number of iterations"
      ],
      "execution_count": 0,
      "outputs": [
        {
          "output_type": "stream",
          "text": [
            "26.23987298133023\n",
            "25.267571721936736\n",
            "24.97442557538709\n",
            "24.754304113946716\n",
            "24.541623792135706\n",
            "24.327490666553924\n",
            "24.111022055502684\n",
            "23.89299161462357\n",
            "23.67463072326724\n",
            "23.457293769822826\n"
          ],
          "name": "stdout"
        }
      ]
    },
    {
      "cell_type": "code",
      "metadata": {
        "id": "DqCsS44_kp27",
        "colab_type": "code",
        "colab": {}
      },
      "source": [
        ""
      ],
      "execution_count": 0,
      "outputs": []
    }
  ]
}