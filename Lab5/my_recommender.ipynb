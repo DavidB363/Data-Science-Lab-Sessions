{
  "nbformat": 4,
  "nbformat_minor": 0,
  "metadata": {
    "colab": {
      "name": " my_recommender.ipynb",
      "provenance": [],
      "include_colab_link": true
    },
    "kernelspec": {
      "name": "python3",
      "display_name": "Python 3"
    }
  },
  "cells": [
    {
      "cell_type": "markdown",
      "metadata": {
        "id": "view-in-github",
        "colab_type": "text"
      },
      "source": [
        "<a href=\"https://colab.research.google.com/github/DavidB363/file-store/blob/master/Lab5/my_recommender.ipynb\" target=\"_parent\"><img src=\"https://colab.research.google.com/assets/colab-badge.svg\" alt=\"Open In Colab\"/></a>"
      ]
    },
    {
      "cell_type": "code",
      "metadata": {
        "id": "36iA0yikBpZg",
        "colab_type": "code",
        "colab": {}
      },
      "source": [
        "# My Recommender System\n",
        "\n",
        "import pandas as pd\n",
        "import numpy as np\n",
        "from IPython.display import Image\n",
        "np.set_printoptions(precision = 3)"
      ],
      "execution_count": 0,
      "outputs": []
    },
    {
      "cell_type": "code",
      "metadata": {
        "id": "Rzo16Ua6I6SE",
        "colab_type": "code",
        "outputId": "603e473a-da4b-4345-8258-498a1d3ed36c",
        "colab": {
          "base_uri": "https://localhost:8080/",
          "height": 274
        }
      },
      "source": [
        "df = pd.read_csv('https://raw.githubusercontent.com/albanda/CE888/master/lab5-recommender/jester-data-1.csv')\n",
        "print(df)"
      ],
      "execution_count": 36,
      "outputs": [
        {
          "output_type": "stream",
          "text": [
            "        74  -7.82   8.79  -9.66  -8.16  ...  99.22  -5.63  99.23  99.24  99.25\n",
            "0      100   4.08  -0.29   6.36   4.37  ...  -2.14   3.06   0.34  -4.32   1.07\n",
            "1       49  99.00  99.00  99.00  99.00  ...  99.00  99.00  99.00  99.00  99.00\n",
            "2       48  99.00   8.35  99.00  99.00  ...  99.00  99.00  99.00  99.00  99.00\n",
            "3       91   8.50   4.61  -4.17  -5.39  ...   1.55   3.11   6.55   1.80   1.60\n",
            "4      100  -6.17  -3.54   0.44  -8.50  ...  -3.35   0.05  -9.08  -5.05  -3.45\n",
            "...    ...    ...    ...    ...    ...  ...    ...    ...    ...    ...    ...\n",
            "24977  100   0.44   7.43   9.08   2.33  ...   9.03   6.55   8.69   8.79   7.43\n",
            "24978   91   9.13  -8.16   8.59   9.08  ...  -8.20  -7.23  -8.59   9.13   8.45\n",
            "24979   39  99.00  99.00  99.00  99.00  ...  99.00  99.00  99.00  99.00  99.00\n",
            "24980   37  99.00  99.00  99.00  99.00  ...  99.00  99.00  99.00  99.00  99.00\n",
            "24981   72   2.43   2.67  -3.98   4.27  ...  99.00  99.00  99.00  99.00  99.00\n",
            "\n",
            "[24982 rows x 101 columns]\n"
          ],
          "name": "stdout"
        }
      ]
    },
    {
      "cell_type": "code",
      "metadata": {
        "id": "vKeGq1WfXoDb",
        "colab_type": "code",
        "colab": {
          "base_uri": "https://localhost:8080/",
          "height": 164
        },
        "outputId": "6e43f8f8-f21b-4c2a-814a-8bc76a7ad662"
      },
      "source": [
        "arr_full = df.values\n",
        "print(arr_full.shape)\n",
        "print(arr_full)"
      ],
      "execution_count": 37,
      "outputs": [
        {
          "output_type": "stream",
          "text": [
            "(24982, 101)\n",
            "[[100.     4.08  -0.29 ...   0.34  -4.32   1.07]\n",
            " [ 49.    99.    99.   ...  99.    99.    99.  ]\n",
            " [ 48.    99.     8.35 ...  99.    99.    99.  ]\n",
            " ...\n",
            " [ 39.    99.    99.   ...  99.    99.    99.  ]\n",
            " [ 37.    99.    99.   ...  99.    99.    99.  ]\n",
            " [ 72.     2.43   2.67 ...  99.    99.    99.  ]]\n"
          ],
          "name": "stdout"
        }
      ]
    },
    {
      "cell_type": "code",
      "metadata": {
        "id": "on0xucuRfUMs",
        "colab_type": "code",
        "colab": {
          "base_uri": "https://localhost:8080/",
          "height": 146
        },
        "outputId": "5e20e91d-e1c7-4082-e871-bb82bb9e46fc"
      },
      "source": [
        "# delete the first column of data\n",
        "arr=arr_full[:,1:]\n",
        "print(arr)"
      ],
      "execution_count": 38,
      "outputs": [
        {
          "output_type": "stream",
          "text": [
            "[[ 4.08 -0.29  6.36 ...  0.34 -4.32  1.07]\n",
            " [99.   99.   99.   ... 99.   99.   99.  ]\n",
            " [99.    8.35 99.   ... 99.   99.   99.  ]\n",
            " ...\n",
            " [99.   99.   99.   ... 99.   99.   99.  ]\n",
            " [99.   99.   99.   ... 99.   99.   99.  ]\n",
            " [ 2.43  2.67 -3.98 ... 99.   99.   99.  ]]\n"
          ],
          "name": "stdout"
        }
      ]
    },
    {
      "cell_type": "code",
      "metadata": {
        "id": "6KdMBlxWXpj4",
        "colab_type": "code",
        "colab": {
          "base_uri": "https://localhost:8080/",
          "height": 35
        },
        "outputId": "21f6551f-577e-4f8a-d4eb-3b5bff591c88"
      },
      "source": [
        "rated = np.where(arr!=99)\n",
        "print(len(rated[0]), rated[1].shape)"
      ],
      "execution_count": 39,
      "outputs": [
        {
          "output_type": "stream",
          "text": [
            "1810381 (1810381,)\n"
          ],
          "name": "stdout"
        }
      ]
    },
    {
      "cell_type": "code",
      "metadata": {
        "id": "SsUlkl2nXwdQ",
        "colab_type": "code",
        "colab": {}
      },
      "source": [
        "def replace(orig, percentage=0.1):\n",
        "  \"\"\"\n",
        "  Replaces 'percentage'% of the original values in 'orig' with 99's\n",
        "  :param orig: original data array\n",
        "  :param percentage: percentage of values to replace (0<percentage<1)\n",
        "  \"\"\"\n",
        "  new_data = orig.copy()\n",
        "  rated = np.where(arr!=99)\n",
        "  n_rated = len(rated[0])\n",
        "  idx = np.random.choice(n_rated, size=int(percentage*n_rated), replace=False)\n",
        "  new_data[rated[0][idx], rated[1][idx]] = 99\n",
        "  return new_data, (rated[0][idx], rated[1][idx])"
      ],
      "execution_count": 0,
      "outputs": []
    },
    {
      "cell_type": "code",
      "metadata": {
        "id": "f2uo9H-qX2VI",
        "colab_type": "code",
        "colab": {
          "base_uri": "https://localhost:8080/",
          "height": 35
        },
        "outputId": "2630c961-aa9a-4385-91d3-83d1df55170f"
      },
      "source": [
        "new_arr, idx = replace(arr, 0.1)\n",
        "print(idx)"
      ],
      "execution_count": 41,
      "outputs": [
        {
          "output_type": "stream",
          "text": [
            "(array([11078,   187, 18781, ..., 10591, 13536,  2394]), array([60, 40, 70, ..., 16, 96, 15]))\n"
          ],
          "name": "stdout"
        }
      ]
    },
    {
      "cell_type": "code",
      "metadata": {
        "id": "dgLuUQbWX3uQ",
        "colab_type": "code",
        "colab": {
          "base_uri": "https://localhost:8080/",
          "height": 35
        },
        "outputId": "f68204a2-29c1-4278-951d-fa4e23e597c7"
      },
      "source": [
        "arr[idx[0][0], idx[1][0]]"
      ],
      "execution_count": 42,
      "outputs": [
        {
          "output_type": "execute_result",
          "data": {
            "text/plain": [
              "4.95"
            ]
          },
          "metadata": {
            "tags": []
          },
          "execution_count": 42
        }
      ]
    },
    {
      "cell_type": "code",
      "metadata": {
        "id": "XRLv3dQ4X4Mv",
        "colab_type": "code",
        "colab": {
          "base_uri": "https://localhost:8080/",
          "height": 35
        },
        "outputId": "e08396c2-5521-4887-d022-b6b295424f6a"
      },
      "source": [
        "new_arr[idx[0][0], idx[1][0]]"
      ],
      "execution_count": 43,
      "outputs": [
        {
          "output_type": "execute_result",
          "data": {
            "text/plain": [
              "99.0"
            ]
          },
          "metadata": {
            "tags": []
          },
          "execution_count": 43
        }
      ]
    },
    {
      "cell_type": "code",
      "metadata": {
        "id": "FNRjRvX_X4iw",
        "colab_type": "code",
        "colab": {}
      },
      "source": [
        "n_latent_factors = 2\n",
        "\n",
        "user_ratings = new_arr\n",
        "# Initialise as random values\n",
        "latent_user_preferences = np.random.random((user_ratings.shape[0], n_latent_factors))\n",
        "latent_item_features = np.random.random((user_ratings.shape[1], n_latent_factors))"
      ],
      "execution_count": 0,
      "outputs": []
    },
    {
      "cell_type": "code",
      "metadata": {
        "id": "f6zQtM6WjwM6",
        "colab_type": "code",
        "colab": {
          "base_uri": "https://localhost:8080/",
          "height": 1000
        },
        "outputId": "0387bb40-613a-4a22-df71-20963f2aa0b7"
      },
      "source": [
        "latent_item_features"
      ],
      "execution_count": 45,
      "outputs": [
        {
          "output_type": "execute_result",
          "data": {
            "text/plain": [
              "array([[0.253, 0.896],\n",
              "       [0.114, 0.289],\n",
              "       [0.286, 0.69 ],\n",
              "       [0.558, 0.103],\n",
              "       [0.467, 0.416],\n",
              "       [0.787, 0.509],\n",
              "       [0.835, 0.863],\n",
              "       [0.791, 0.398],\n",
              "       [0.56 , 0.227],\n",
              "       [0.211, 0.937],\n",
              "       [0.965, 0.674],\n",
              "       [0.265, 0.624],\n",
              "       [0.782, 0.121],\n",
              "       [0.316, 0.354],\n",
              "       [0.07 , 0.102],\n",
              "       [0.607, 0.886],\n",
              "       [0.041, 0.022],\n",
              "       [0.658, 0.689],\n",
              "       [0.727, 0.985],\n",
              "       [0.133, 0.812],\n",
              "       [0.503, 0.868],\n",
              "       [0.417, 0.782],\n",
              "       [0.885, 0.526],\n",
              "       [0.212, 0.664],\n",
              "       [0.724, 0.149],\n",
              "       [0.837, 0.695],\n",
              "       [0.242, 0.977],\n",
              "       [0.446, 0.483],\n",
              "       [0.961, 0.645],\n",
              "       [0.884, 0.269],\n",
              "       [0.251, 0.687],\n",
              "       [0.607, 0.856],\n",
              "       [0.697, 0.223],\n",
              "       [0.775, 0.606],\n",
              "       [0.255, 0.514],\n",
              "       [0.87 , 0.501],\n",
              "       [0.049, 0.195],\n",
              "       [0.339, 0.845],\n",
              "       [0.084, 0.491],\n",
              "       [0.695, 0.309],\n",
              "       [0.642, 0.471],\n",
              "       [0.002, 0.086],\n",
              "       [0.474, 0.114],\n",
              "       [0.423, 0.468],\n",
              "       [0.637, 0.546],\n",
              "       [0.848, 0.676],\n",
              "       [0.47 , 0.775],\n",
              "       [0.75 , 0.53 ],\n",
              "       [0.109, 0.168],\n",
              "       [0.498, 0.821],\n",
              "       [0.223, 0.05 ],\n",
              "       [0.045, 0.063],\n",
              "       [0.534, 0.87 ],\n",
              "       [0.697, 0.21 ],\n",
              "       [0.894, 0.743],\n",
              "       [0.847, 0.826],\n",
              "       [0.584, 0.32 ],\n",
              "       [0.055, 0.243],\n",
              "       [0.869, 0.848],\n",
              "       [0.089, 0.085],\n",
              "       [0.927, 0.487],\n",
              "       [0.827, 0.144],\n",
              "       [0.088, 0.53 ],\n",
              "       [0.416, 0.005],\n",
              "       [0.623, 0.554],\n",
              "       [0.229, 0.209],\n",
              "       [0.96 , 0.332],\n",
              "       [0.018, 0.921],\n",
              "       [0.239, 0.432],\n",
              "       [0.957, 0.387],\n",
              "       [0.573, 0.259],\n",
              "       [0.106, 0.611],\n",
              "       [0.207, 0.171],\n",
              "       [0.904, 0.555],\n",
              "       [0.929, 0.588],\n",
              "       [0.26 , 0.492],\n",
              "       [0.37 , 0.261],\n",
              "       [0.909, 0.252],\n",
              "       [0.292, 0.324],\n",
              "       [0.271, 0.712],\n",
              "       [0.119, 0.708],\n",
              "       [0.888, 0.597],\n",
              "       [0.11 , 0.087],\n",
              "       [0.965, 0.933],\n",
              "       [0.295, 0.468],\n",
              "       [0.684, 0.762],\n",
              "       [0.65 , 0.797],\n",
              "       [0.871, 0.576],\n",
              "       [0.043, 0.561],\n",
              "       [0.107, 0.073],\n",
              "       [0.501, 0.621],\n",
              "       [0.87 , 0.145],\n",
              "       [0.091, 0.372],\n",
              "       [0.929, 0.197],\n",
              "       [0.418, 0.958],\n",
              "       [0.981, 0.491],\n",
              "       [0.532, 0.96 ],\n",
              "       [0.178, 0.202],\n",
              "       [0.992, 0.4  ],\n",
              "       [0.953, 0.998]])"
            ]
          },
          "metadata": {
            "tags": []
          },
          "execution_count": 45
        }
      ]
    },
    {
      "cell_type": "code",
      "metadata": {
        "id": "pRWw6Dwrj-IW",
        "colab_type": "code",
        "colab": {
          "base_uri": "https://localhost:8080/",
          "height": 146
        },
        "outputId": "37a43e7d-14b2-4a84-aa91-ed751774ae66"
      },
      "source": [
        "latent_user_preferences"
      ],
      "execution_count": 46,
      "outputs": [
        {
          "output_type": "execute_result",
          "data": {
            "text/plain": [
              "array([[0.65 , 0.746],\n",
              "       [0.359, 0.112],\n",
              "       [0.684, 0.349],\n",
              "       ...,\n",
              "       [0.754, 0.623],\n",
              "       [0.918, 0.751],\n",
              "       [0.352, 0.151]])"
            ]
          },
          "metadata": {
            "tags": []
          },
          "execution_count": 46
        }
      ]
    },
    {
      "cell_type": "code",
      "metadata": {
        "id": "PV_YjnQJj4G1",
        "colab_type": "code",
        "colab": {}
      },
      "source": [
        "def predict_rating(user_id, item_id):\n",
        "    \"\"\" Predict a rating given a user_id and an item_id.\n",
        "    \"\"\"\n",
        "    user_preference = latent_user_preferences[user_id]\n",
        "    item_preference = latent_item_features[item_id]\n",
        "    return user_preference.dot(item_preference)\n",
        "\n",
        "\n",
        "#def train(user_id, item_id, rating, alpha=0.0001):\n",
        "def train(user_id, item_id, rating, alpha=0.01):\n",
        "    \n",
        "    #print item_id\n",
        "    prediction_rating = predict_rating(user_id, item_id)\n",
        "    err =  prediction_rating - rating\n",
        "    #print err\n",
        "    user_pref_values = latent_user_preferences[user_id][:]\n",
        "    latent_user_preferences[user_id] -= alpha * err * latent_item_features[item_id]\n",
        "    latent_item_features[item_id] -= alpha * err * user_pref_values\n",
        "    return err\n",
        "    \n",
        "\n",
        "def sgd(iterations=300000):\n",
        "    \"\"\" Iterate over all users and all items and train for \n",
        "        a certain number of iterations\n",
        "    \"\"\"\n",
        "    for iteration in range(iterations):\n",
        "        error = []\n",
        "        for user_id in range(latent_user_preferences.shape[0]):\n",
        "            for item_id in range(latent_item_features.shape[0]):\n",
        "                rating = user_ratings[user_id][item_id]\n",
        "                if not np.isnan(rating):\n",
        "                    err = train(user_id, item_id, rating)\n",
        "                    error.append(err)\n",
        "        mse = (np.array(error) ** 2).mean()   \n",
        "        if (iteration % 10000) == 0:\n",
        "            print(mse)"
      ],
      "execution_count": 0,
      "outputs": []
    },
    {
      "cell_type": "code",
      "metadata": {
        "id": "bCYv7aFAkST3",
        "colab_type": "code",
        "colab": {
          "base_uri": "https://localhost:8080/",
          "height": 109
        },
        "outputId": "893dd907-8d7e-41fa-f4c1-f777f9076a87"
      },
      "source": [
        "sgd()  # Note how the MSE decreases with the number of iterations"
      ],
      "execution_count": 0,
      "outputs": [
        {
          "output_type": "stream",
          "text": [
            "/usr/local/lib/python3.6/dist-packages/ipykernel_launcher.py:18: RuntimeWarning: overflow encountered in multiply\n",
            "/usr/local/lib/python3.6/dist-packages/ipykernel_launcher.py:17: RuntimeWarning: invalid value encountered in subtract\n",
            "/usr/local/lib/python3.6/dist-packages/ipykernel_launcher.py:17: RuntimeWarning: overflow encountered in multiply\n",
            "/usr/local/lib/python3.6/dist-packages/ipykernel_launcher.py:34: RuntimeWarning: overflow encountered in square\n"
          ],
          "name": "stderr"
        },
        {
          "output_type": "stream",
          "text": [
            "nan\n"
          ],
          "name": "stdout"
        }
      ]
    },
    {
      "cell_type": "code",
      "metadata": {
        "id": "DqCsS44_kp27",
        "colab_type": "code",
        "colab": {}
      },
      "source": [
        ""
      ],
      "execution_count": 0,
      "outputs": []
    }
  ]
}