{
  "nbformat": 4,
  "nbformat_minor": 0,
  "metadata": {
    "colab": {
      "name": "Copy of  my_recommender.ipynb",
      "provenance": [],
      "include_colab_link": true
    },
    "kernelspec": {
      "name": "python3",
      "display_name": "Python 3"
    }
  },
  "cells": [
    {
      "cell_type": "markdown",
      "metadata": {
        "id": "view-in-github",
        "colab_type": "text"
      },
      "source": [
        "<a href=\"https://colab.research.google.com/github/DavidB363/file-store/blob/master/Lab5/my_recommender.ipynb\" target=\"_parent\"><img src=\"https://colab.research.google.com/assets/colab-badge.svg\" alt=\"Open In Colab\"/></a>"
      ]
    },
    {
      "cell_type": "code",
      "metadata": {
        "id": "36iA0yikBpZg",
        "colab_type": "code",
        "colab": {}
      },
      "source": [
        "# My Recommender System\n",
        "\n",
        "import pandas as pd\n",
        "import numpy as np\n",
        "from IPython.display import Image\n",
        "np.set_printoptions(precision = 3)"
      ],
      "execution_count": 0,
      "outputs": []
    },
    {
      "cell_type": "code",
      "metadata": {
        "id": "Rzo16Ua6I6SE",
        "colab_type": "code",
        "outputId": "5f894930-c90f-4dca-8dcc-924b973ffa29",
        "colab": {
          "base_uri": "https://localhost:8080/",
          "height": 274
        }
      },
      "source": [
        "df = pd.read_csv('https://raw.githubusercontent.com/albanda/CE888/master/lab5-recommender/jester-data-1.csv')\n",
        "df=df.drop(df.columns[0],1)\n",
        "print(df)"
      ],
      "execution_count": 16,
      "outputs": [
        {
          "output_type": "stream",
          "text": [
            "       -7.82   8.79  -9.66  -8.16  -7.52  ...  99.22  -5.63  99.23  99.24  99.25\n",
            "0       4.08  -0.29   6.36   4.37  -2.38  ...  -2.14   3.06   0.34  -4.32   1.07\n",
            "1      99.00  99.00  99.00  99.00   9.03  ...  99.00  99.00  99.00  99.00  99.00\n",
            "2      99.00   8.35  99.00  99.00   1.80  ...  99.00  99.00  99.00  99.00  99.00\n",
            "3       8.50   4.61  -4.17  -5.39   1.36  ...   1.55   3.11   6.55   1.80   1.60\n",
            "4      -6.17  -3.54   0.44  -8.50  -7.09  ...  -3.35   0.05  -9.08  -5.05  -3.45\n",
            "...      ...    ...    ...    ...    ...  ...    ...    ...    ...    ...    ...\n",
            "24977   0.44   7.43   9.08   2.33   3.20  ...   9.03   6.55   8.69   8.79   7.43\n",
            "24978   9.13  -8.16   8.59   9.08   0.87  ...  -8.20  -7.23  -8.59   9.13   8.45\n",
            "24979  99.00  99.00  99.00  99.00  -7.77  ...  99.00  99.00  99.00  99.00  99.00\n",
            "24980  99.00  99.00  99.00  99.00  -9.71  ...  99.00  99.00  99.00  99.00  99.00\n",
            "24981   2.43   2.67  -3.98   4.27  -2.28  ...  99.00  99.00  99.00  99.00  99.00\n",
            "\n",
            "[24982 rows x 100 columns]\n"
          ],
          "name": "stdout"
        }
      ]
    },
    {
      "cell_type": "code",
      "metadata": {
        "id": "vKeGq1WfXoDb",
        "colab_type": "code",
        "outputId": "16ae57b4-6ec0-42b5-fd28-a3f7852cdae5",
        "colab": {
          "base_uri": "https://localhost:8080/",
          "height": 35
        }
      },
      "source": [
        "arr = df.values\n",
        "print(arr.shape)\n",
        "#print(arr_full)"
      ],
      "execution_count": 17,
      "outputs": [
        {
          "output_type": "stream",
          "text": [
            "(24982, 100)\n"
          ],
          "name": "stdout"
        }
      ]
    },
    {
      "cell_type": "code",
      "metadata": {
        "id": "6KdMBlxWXpj4",
        "colab_type": "code",
        "outputId": "d314cec2-845f-4c1f-9974-31dc3ce2a8db",
        "colab": {
          "base_uri": "https://localhost:8080/",
          "height": 35
        }
      },
      "source": [
        "rated = np.where(arr!=99)\n",
        "print(len(rated[0]), rated[1].shape)"
      ],
      "execution_count": 18,
      "outputs": [
        {
          "output_type": "stream",
          "text": [
            "1810381 (1810381,)\n"
          ],
          "name": "stdout"
        }
      ]
    },
    {
      "cell_type": "code",
      "metadata": {
        "id": "SsUlkl2nXwdQ",
        "colab_type": "code",
        "colab": {}
      },
      "source": [
        "\n",
        "def replace(orig, percentage=0.1):\n",
        "  \"\"\"\n",
        "  Replaces 'percentage'% of the original values in 'orig' with 99's\n",
        "  :param orig: original data array\n",
        "  :param percentage: percentage of values to replace (0<percentage<1)\n",
        "  \"\"\"\n",
        "  new_data = orig.copy()\n",
        "  rated = np.where(arr!=99)\n",
        "  n_rated = len(rated[0])\n",
        "  idx = np.random.choice(n_rated, size=int(percentage*n_rated), replace=False)\n",
        "  new_data[rated[0][idx], rated[1][idx]] = 99\n",
        "  return new_data, (rated[0][idx], rated[1][idx])"
      ],
      "execution_count": 0,
      "outputs": []
    },
    {
      "cell_type": "code",
      "metadata": {
        "id": "f2uo9H-qX2VI",
        "colab_type": "code",
        "outputId": "a414ea49-2ef3-4818-9609-a61446acaf73",
        "colab": {
          "base_uri": "https://localhost:8080/",
          "height": 35
        }
      },
      "source": [
        "new_arr, idx = replace(arr, 0.1)\n",
        "print(idx)"
      ],
      "execution_count": 20,
      "outputs": [
        {
          "output_type": "stream",
          "text": [
            "(array([ 1438, 20307, 10013, ...,  6562, 24678,  9793]), array([21, 55,  3, ..., 25, 64, 37]))\n"
          ],
          "name": "stdout"
        }
      ]
    },
    {
      "cell_type": "code",
      "metadata": {
        "id": "dgLuUQbWX3uQ",
        "colab_type": "code",
        "outputId": "4ceb9188-7e23-4da5-ef1f-732d43293227",
        "colab": {
          "base_uri": "https://localhost:8080/",
          "height": 35
        }
      },
      "source": [
        "arr[idx[0][0], idx[1][0]]"
      ],
      "execution_count": 21,
      "outputs": [
        {
          "output_type": "execute_result",
          "data": {
            "text/plain": [
              "1.75"
            ]
          },
          "metadata": {
            "tags": []
          },
          "execution_count": 21
        }
      ]
    },
    {
      "cell_type": "code",
      "metadata": {
        "id": "XRLv3dQ4X4Mv",
        "colab_type": "code",
        "outputId": "90a7daca-9ff3-409b-c740-1306ed707e9e",
        "colab": {
          "base_uri": "https://localhost:8080/",
          "height": 35
        }
      },
      "source": [
        "new_arr[idx[0][0], idx[1][0]]"
      ],
      "execution_count": 22,
      "outputs": [
        {
          "output_type": "execute_result",
          "data": {
            "text/plain": [
              "99.0"
            ]
          },
          "metadata": {
            "tags": []
          },
          "execution_count": 22
        }
      ]
    },
    {
      "cell_type": "code",
      "metadata": {
        "id": "FNRjRvX_X4iw",
        "colab_type": "code",
        "colab": {}
      },
      "source": [
        "# Set the number of latent factors to 2.\n",
        "\n",
        "n_latent_factors = 2\n",
        "\n",
        "user_ratings = new_arr\n",
        "# Initialise as random values\n",
        "latent_user_preferences = np.random.random((user_ratings.shape[0], n_latent_factors))\n",
        "latent_item_features = np.random.random((user_ratings.shape[1], n_latent_factors))"
      ],
      "execution_count": 0,
      "outputs": []
    },
    {
      "cell_type": "code",
      "metadata": {
        "id": "f6zQtM6WjwM6",
        "colab_type": "code",
        "outputId": "c55b5951-53eb-4b7a-c6b2-4d836bf7394e",
        "colab": {
          "base_uri": "https://localhost:8080/",
          "height": 1000
        }
      },
      "source": [
        "latent_item_features"
      ],
      "execution_count": 24,
      "outputs": [
        {
          "output_type": "execute_result",
          "data": {
            "text/plain": [
              "array([[0.643, 0.015],\n",
              "       [0.207, 0.929],\n",
              "       [0.093, 0.632],\n",
              "       [0.243, 0.633],\n",
              "       [0.84 , 0.211],\n",
              "       [0.705, 0.459],\n",
              "       [0.776, 0.442],\n",
              "       [0.974, 0.407],\n",
              "       [0.764, 0.283],\n",
              "       [0.364, 0.333],\n",
              "       [0.393, 0.065],\n",
              "       [0.285, 0.822],\n",
              "       [0.384, 0.047],\n",
              "       [0.012, 0.565],\n",
              "       [0.856, 0.444],\n",
              "       [0.866, 0.866],\n",
              "       [0.261, 0.143],\n",
              "       [0.619, 0.294],\n",
              "       [0.126, 0.034],\n",
              "       [0.437, 0.832],\n",
              "       [0.336, 0.724],\n",
              "       [0.205, 0.609],\n",
              "       [0.33 , 0.998],\n",
              "       [0.043, 0.932],\n",
              "       [0.969, 0.087],\n",
              "       [0.735, 0.684],\n",
              "       [0.969, 0.116],\n",
              "       [0.985, 0.849],\n",
              "       [0.197, 0.039],\n",
              "       [0.798, 0.294],\n",
              "       [0.185, 0.066],\n",
              "       [0.857, 0.775],\n",
              "       [0.355, 0.435],\n",
              "       [0.663, 0.015],\n",
              "       [0.889, 0.081],\n",
              "       [0.438, 0.72 ],\n",
              "       [0.295, 0.707],\n",
              "       [0.019, 0.938],\n",
              "       [0.668, 0.127],\n",
              "       [0.792, 0.074],\n",
              "       [0.549, 0.659],\n",
              "       [0.58 , 0.67 ],\n",
              "       [0.436, 0.319],\n",
              "       [0.395, 0.799],\n",
              "       [0.678, 0.76 ],\n",
              "       [0.211, 0.226],\n",
              "       [0.438, 0.995],\n",
              "       [0.265, 0.476],\n",
              "       [0.51 , 0.678],\n",
              "       [0.9  , 0.271],\n",
              "       [0.037, 0.336],\n",
              "       [0.059, 0.025],\n",
              "       [0.188, 0.362],\n",
              "       [0.284, 0.777],\n",
              "       [0.583, 0.554],\n",
              "       [0.168, 0.156],\n",
              "       [0.499, 0.384],\n",
              "       [0.919, 0.295],\n",
              "       [0.723, 0.192],\n",
              "       [0.773, 0.828],\n",
              "       [0.025, 0.661],\n",
              "       [0.5  , 0.661],\n",
              "       [0.428, 0.983],\n",
              "       [0.442, 0.765],\n",
              "       [0.444, 0.701],\n",
              "       [0.8  , 0.707],\n",
              "       [0.582, 0.832],\n",
              "       [0.816, 0.76 ],\n",
              "       [0.46 , 0.53 ],\n",
              "       [0.099, 0.129],\n",
              "       [0.166, 0.43 ],\n",
              "       [0.844, 0.125],\n",
              "       [0.476, 0.267],\n",
              "       [0.235, 0.672],\n",
              "       [0.719, 0.493],\n",
              "       [0.702, 0.215],\n",
              "       [0.961, 0.477],\n",
              "       [0.5  , 0.318],\n",
              "       [0.006, 0.831],\n",
              "       [0.973, 0.978],\n",
              "       [0.939, 0.719],\n",
              "       [0.59 , 0.39 ],\n",
              "       [0.029, 0.757],\n",
              "       [0.666, 0.295],\n",
              "       [0.485, 0.465],\n",
              "       [0.693, 0.524],\n",
              "       [0.641, 0.73 ],\n",
              "       [0.916, 0.452],\n",
              "       [0.674, 0.45 ],\n",
              "       [0.329, 0.725],\n",
              "       [0.385, 0.157],\n",
              "       [0.7  , 0.473],\n",
              "       [0.142, 0.605],\n",
              "       [0.497, 0.193],\n",
              "       [0.015, 0.717],\n",
              "       [0.778, 0.771],\n",
              "       [0.904, 0.971],\n",
              "       [0.235, 0.365],\n",
              "       [0.556, 0.694],\n",
              "       [0.343, 0.629]])"
            ]
          },
          "metadata": {
            "tags": []
          },
          "execution_count": 24
        }
      ]
    },
    {
      "cell_type": "code",
      "metadata": {
        "id": "pRWw6Dwrj-IW",
        "colab_type": "code",
        "outputId": "e0108a30-c748-46ac-b325-1bb17e97f28f",
        "colab": {
          "base_uri": "https://localhost:8080/",
          "height": 146
        }
      },
      "source": [
        "latent_user_preferences"
      ],
      "execution_count": 25,
      "outputs": [
        {
          "output_type": "execute_result",
          "data": {
            "text/plain": [
              "array([[0.231, 0.757],\n",
              "       [0.193, 0.766],\n",
              "       [0.468, 0.609],\n",
              "       ...,\n",
              "       [0.788, 0.984],\n",
              "       [0.085, 0.908],\n",
              "       [0.428, 0.13 ]])"
            ]
          },
          "metadata": {
            "tags": []
          },
          "execution_count": 25
        }
      ]
    },
    {
      "cell_type": "code",
      "metadata": {
        "id": "PV_YjnQJj4G1",
        "colab_type": "code",
        "colab": {}
      },
      "source": [
        "def predict_rating(user_id, item_id):\n",
        "    \"\"\" Predict a rating given a user_id and an item_id.\n",
        "    \"\"\"\n",
        "    user_preference = latent_user_preferences[user_id]\n",
        "    item_preference = latent_item_features[item_id]\n",
        "    return user_preference.dot(item_preference)\n",
        "\n",
        "\n",
        "def train(user_id, item_id, rating, alpha=0.0001):\n",
        "#def train(user_id, item_id, rating, alpha=0.01):\n",
        "    \n",
        "    #print item_id\n",
        "    prediction_rating = predict_rating(user_id, item_id)\n",
        "    err =  prediction_rating - rating\n",
        "    #print err\n",
        "    user_pref_values = latent_user_preferences[user_id][:]\n",
        "    latent_user_preferences[user_id] -= alpha * err * latent_item_features[item_id]\n",
        "    latent_item_features[item_id] -= alpha * err * user_pref_values\n",
        "    return err\n",
        "    \n",
        "\n",
        "\n",
        "\n",
        "#def sgd(iterations=300000):\n",
        "def sgd(iterations=10):\n",
        "    \"\"\" Iterate over all users and all items and train for \n",
        "        a certain number of iterations\n",
        "    \"\"\"\n",
        "    for iteration in range(iterations):\n",
        "        error = [] \n",
        "        for user_id in range(latent_user_preferences.shape[0]):\n",
        "            for item_id in range(latent_item_features.shape[0]):\n",
        "                rating = user_ratings[user_id][item_id]\n",
        "                if (rating!=99):\n",
        "                    err = train(user_id, item_id, rating)\n",
        "                    error.append(err)\n",
        "        mse = (np.array(error) ** 2).mean()   \n",
        "        # if (iteration % 10000) == 0:\n",
        "        if (iteration % 1) == 0:\n",
        "            print(mse)"
      ],
      "execution_count": 0,
      "outputs": []
    },
    {
      "cell_type": "code",
      "metadata": {
        "id": "bCYv7aFAkST3",
        "colab_type": "code",
        "outputId": "723238fc-f285-4d53-b044-750cdff64568",
        "colab": {
          "base_uri": "https://localhost:8080/",
          "height": 201
        }
      },
      "source": [
        "sgd(10)  # Note how the MSE decreases with the number of iterations"
      ],
      "execution_count": 27,
      "outputs": [
        {
          "output_type": "stream",
          "text": [
            "26.220265341629485\n",
            "25.26066709965554\n",
            "24.973258613193607\n",
            "24.755771535175594\n",
            "24.544867326256636\n",
            "24.332221123695177\n",
            "24.117058721389082\n",
            "23.900102740976944\n",
            "23.68245422985053\n",
            "23.465279365922687\n"
          ],
          "name": "stdout"
        }
      ]
    },
    {
      "cell_type": "code",
      "metadata": {
        "id": "DqCsS44_kp27",
        "colab_type": "code",
        "colab": {
          "base_uri": "https://localhost:8080/",
          "height": 1000
        },
        "outputId": "02c4f4a2-1fc8-4bc7-ef88-e624e96de814"
      },
      "source": [
        "sgd(100)"
      ],
      "execution_count": 28,
      "outputs": [
        {
          "output_type": "stream",
          "text": [
            "23.249669259784003\n",
            "23.036544316490808\n",
            "22.826571144021315\n",
            "22.620082933519928\n",
            "22.417000618401644\n",
            "22.21675473112159\n",
            "22.018210681210693\n",
            "21.819605161964564\n",
            "21.61851006090636\n",
            "21.41185358483025\n",
            "21.19604562501521\n",
            "20.96727078431079\n",
            "20.722015153660276\n",
            "20.45785882490912\n",
            "20.174468307713738\n",
            "19.87455597008583\n",
            "19.56439693323259\n",
            "19.2534545550484\n",
            "18.952921498828452\n",
            "18.673512154080356\n",
            "18.423322571608647\n",
            "18.206597124397668\n",
            "18.023739285756537\n",
            "17.87226933467493\n",
            "17.748116821554795\n",
            "17.64673665516823\n",
            "17.56382916006973\n",
            "17.495683424326096\n",
            "17.43926462583435\n",
            "17.392166436367006\n",
            "17.352511435251493\n",
            "17.318844337905166\n",
            "17.290037295914683\n",
            "17.265212804455302\n",
            "17.243683636694687\n",
            "17.224907106541117\n",
            "17.20845063921423\n",
            "17.19396597919988\n",
            "17.1811698845833\n",
            "17.16982965063963\n",
            "17.159752214960154\n",
            "17.150775915960867\n",
            "17.142764218753214\n",
            "17.135600902963546\n",
            "17.129186340644832\n",
            "17.123434590698647\n",
            "17.118271108327665\n",
            "17.113630920850508\n",
            "17.109457159861684\n",
            "17.105699868007\n",
            "17.10231501936268\n",
            "17.099263707603395\n",
            "17.09651146731801\n",
            "17.094027702075376\n",
            "17.091785198948035\n",
            "17.089759713749608\n",
            "17.08792961464916\n",
            "17.086275574397174\n",
            "17.084780303354783\n",
            "17.083428317019088\n",
            "17.082205732901137\n",
            "17.081100092523464\n",
            "17.080100205023044\n",
            "17.079196009420446\n",
            "17.078378453078198\n",
            "17.077639384248595\n",
            "17.076971456920198\n",
            "17.07636804642852\n",
            "17.075823174510134\n",
            "17.075331442658396\n"
          ],
          "name": "stdout"
        },
        {
          "output_type": "error",
          "ename": "KeyboardInterrupt",
          "evalue": "ignored",
          "traceback": [
            "\u001b[0;31m---------------------------------------------------------------------------\u001b[0m",
            "\u001b[0;31mKeyboardInterrupt\u001b[0m                         Traceback (most recent call last)",
            "\u001b[0;32m<ipython-input-28-c920d6bedb9f>\u001b[0m in \u001b[0;36m<module>\u001b[0;34m()\u001b[0m\n\u001b[0;32m----> 1\u001b[0;31m \u001b[0msgd\u001b[0m\u001b[0;34m(\u001b[0m\u001b[0;36m100\u001b[0m\u001b[0;34m)\u001b[0m\u001b[0;34m\u001b[0m\u001b[0;34m\u001b[0m\u001b[0m\n\u001b[0m",
            "\u001b[0;32m<ipython-input-26-95778d938795>\u001b[0m in \u001b[0;36msgd\u001b[0;34m(iterations)\u001b[0m\n\u001b[1;32m     33\u001b[0m                 \u001b[0mrating\u001b[0m \u001b[0;34m=\u001b[0m \u001b[0muser_ratings\u001b[0m\u001b[0;34m[\u001b[0m\u001b[0muser_id\u001b[0m\u001b[0;34m]\u001b[0m\u001b[0;34m[\u001b[0m\u001b[0mitem_id\u001b[0m\u001b[0;34m]\u001b[0m\u001b[0;34m\u001b[0m\u001b[0;34m\u001b[0m\u001b[0m\n\u001b[1;32m     34\u001b[0m                 \u001b[0;32mif\u001b[0m \u001b[0;34m(\u001b[0m\u001b[0mrating\u001b[0m\u001b[0;34m!=\u001b[0m\u001b[0;36m99\u001b[0m\u001b[0;34m)\u001b[0m\u001b[0;34m:\u001b[0m\u001b[0;34m\u001b[0m\u001b[0;34m\u001b[0m\u001b[0m\n\u001b[0;32m---> 35\u001b[0;31m                     \u001b[0merr\u001b[0m \u001b[0;34m=\u001b[0m \u001b[0mtrain\u001b[0m\u001b[0;34m(\u001b[0m\u001b[0muser_id\u001b[0m\u001b[0;34m,\u001b[0m \u001b[0mitem_id\u001b[0m\u001b[0;34m,\u001b[0m \u001b[0mrating\u001b[0m\u001b[0;34m)\u001b[0m\u001b[0;34m\u001b[0m\u001b[0;34m\u001b[0m\u001b[0m\n\u001b[0m\u001b[1;32m     36\u001b[0m                     \u001b[0merror\u001b[0m\u001b[0;34m.\u001b[0m\u001b[0mappend\u001b[0m\u001b[0;34m(\u001b[0m\u001b[0merr\u001b[0m\u001b[0;34m)\u001b[0m\u001b[0;34m\u001b[0m\u001b[0;34m\u001b[0m\u001b[0m\n\u001b[1;32m     37\u001b[0m         \u001b[0mmse\u001b[0m \u001b[0;34m=\u001b[0m \u001b[0;34m(\u001b[0m\u001b[0mnp\u001b[0m\u001b[0;34m.\u001b[0m\u001b[0marray\u001b[0m\u001b[0;34m(\u001b[0m\u001b[0merror\u001b[0m\u001b[0;34m)\u001b[0m \u001b[0;34m**\u001b[0m \u001b[0;36m2\u001b[0m\u001b[0;34m)\u001b[0m\u001b[0;34m.\u001b[0m\u001b[0mmean\u001b[0m\u001b[0;34m(\u001b[0m\u001b[0;34m)\u001b[0m\u001b[0;34m\u001b[0m\u001b[0;34m\u001b[0m\u001b[0m\n",
            "\u001b[0;32m<ipython-input-26-95778d938795>\u001b[0m in \u001b[0;36mtrain\u001b[0;34m(user_id, item_id, rating, alpha)\u001b[0m\n\u001b[1;32m     15\u001b[0m     \u001b[0;31m#print err\u001b[0m\u001b[0;34m\u001b[0m\u001b[0;34m\u001b[0m\u001b[0;34m\u001b[0m\u001b[0m\n\u001b[1;32m     16\u001b[0m     \u001b[0muser_pref_values\u001b[0m \u001b[0;34m=\u001b[0m \u001b[0mlatent_user_preferences\u001b[0m\u001b[0;34m[\u001b[0m\u001b[0muser_id\u001b[0m\u001b[0;34m]\u001b[0m\u001b[0;34m[\u001b[0m\u001b[0;34m:\u001b[0m\u001b[0;34m]\u001b[0m\u001b[0;34m\u001b[0m\u001b[0;34m\u001b[0m\u001b[0m\n\u001b[0;32m---> 17\u001b[0;31m     \u001b[0mlatent_user_preferences\u001b[0m\u001b[0;34m[\u001b[0m\u001b[0muser_id\u001b[0m\u001b[0;34m]\u001b[0m \u001b[0;34m-=\u001b[0m \u001b[0malpha\u001b[0m \u001b[0;34m*\u001b[0m \u001b[0merr\u001b[0m \u001b[0;34m*\u001b[0m \u001b[0mlatent_item_features\u001b[0m\u001b[0;34m[\u001b[0m\u001b[0mitem_id\u001b[0m\u001b[0;34m]\u001b[0m\u001b[0;34m\u001b[0m\u001b[0;34m\u001b[0m\u001b[0m\n\u001b[0m\u001b[1;32m     18\u001b[0m     \u001b[0mlatent_item_features\u001b[0m\u001b[0;34m[\u001b[0m\u001b[0mitem_id\u001b[0m\u001b[0;34m]\u001b[0m \u001b[0;34m-=\u001b[0m \u001b[0malpha\u001b[0m \u001b[0;34m*\u001b[0m \u001b[0merr\u001b[0m \u001b[0;34m*\u001b[0m \u001b[0muser_pref_values\u001b[0m\u001b[0;34m\u001b[0m\u001b[0;34m\u001b[0m\u001b[0m\n\u001b[1;32m     19\u001b[0m     \u001b[0;32mreturn\u001b[0m \u001b[0merr\u001b[0m\u001b[0;34m\u001b[0m\u001b[0;34m\u001b[0m\u001b[0m\n",
            "\u001b[0;31mKeyboardInterrupt\u001b[0m: "
          ]
        }
      ]
    }
  ]
}